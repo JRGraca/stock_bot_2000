{
 "cells": [
  {
   "cell_type": "code",
   "execution_count": 2,
   "metadata": {},
   "outputs": [],
   "source": [
    "import pandas as pd\n",
    "import numpy as np\n",
    "import pandas_ta as pta\n",
    "import ta\n",
    "# from datapackage import Package\n",
    "# from selenium import webdriver\n",
    "# import requests\n",
    "# from bs4 import BeautifulSoup\n",
    "# import yfinance as yf\n",
    "import os\n",
    "import random\n",
    "import shutil\n",
    "import time\n",
    "from tensorflow.keras.layers import LSTM\n",
    "import tensorflow as tf\n",
    "from scipy import stats\n",
    "from sklearn.model_selection import train_test_split\n",
    "from sklearn.preprocessing import MinMaxScaler\n",
    "from numpy import array\n",
    "from tensorflow.keras.utils import plot_model\n",
    "import graphviz\n",
    "import pydot\n",
    "from keras.models import Sequential\n",
    "from keras.layers import LSTM\n",
    "from keras.layers import Dense\n",
    "from keras.layers import Dropout\n",
    "# PARAMETERS\n",
    "\n",
    "steps = 10\n",
    "epochs = 10\n",
    "nodes_per_layer = 64\n",
    "shift = -1\n",
    "batch_size = 20\n",
    "loss_function = \"mean_squared_error\"\n",
    "dropout_rate = 0.2\n",
    "top_25 = [\"AAPL\", \"MSFT\", \"AMZN\", \"TSLA\", \"GOOGL\", \"BRK.B\", \"UNH\", \"JNJ\", \"XOM\", \"JPM\", \"META\", \"V\", \"PG\", \"NVDA\", \"HD\", \"CVX\", \"LLY\", \"MA\", \"ABBV\", \"PFE\", \"MRK\", \"PEP\", \"BAC\", \"KO\"]\n",
    "\n",
    "# for ticker_code in [\"MSFT\"]:\n",
    "# \tprint(ticker_code)\n",
    "# \tX_train_scaled = pd.read_pickle(\"sets/X_train/\" + ticker_code + \"_X_train_scaled.pkl\")\n",
    "# \ty_train_scaled = pd.read_pickle(\"sets/y_train/\" + ticker_code + \"_y_train_scaled.pkl\")\n",
    "# \tif ticker_code in [\"NVDA\"]:\n",
    "# \t\tX_train_scaled = X_train_scaled[:-1]\n",
    "# \tX_train_list = []\n",
    "# \tfor i in range(steps, len(X_train_scaled)):\n",
    "# \t\tX_train_list.append(X_train_scaled[i-steps:i])\n",
    "# \tX_train_list = np.array(X_train_list)\n",
    "# \tmodel = Sequential()\n",
    "# \tmodel.add(LSTM(nodes_per_layer, activation='relu', input_shape=(steps, X_train_list.shape[2]), return_sequences=True))\n",
    "# \tmodel.add(Dropout(dropout_rate))\n",
    "# \tmodel.add(LSTM(nodes_per_layer, return_sequences=True))\n",
    "# \tmodel.add(Dropout(dropout_rate))\n",
    "# \tmodel.add(LSTM(nodes_per_layer, return_sequences=True))\n",
    "# \tmodel.add(Dropout(dropout_rate))\n",
    "# \tmodel.add(LSTM(nodes_per_layer, return_sequences=True))\n",
    "# \tmodel.add(Dropout(dropout_rate))\n",
    "# \tmodel.add(LSTM(nodes_per_layer, return_sequences=True))\n",
    "# \tmodel.add(Dropout(dropout_rate))\n",
    "# \tmodel.add(LSTM(nodes_per_layer, return_sequences=True))\n",
    "# \tmodel.add(Dropout(dropout_rate))\n",
    "# \tmodel.add(LSTM(nodes_per_layer, return_sequences=False))\n",
    "# \tmodel.add(Dense(units=1, activation='relu'))\n",
    "# \tmodel.compile(optimizer='adam', loss=loss_function)\n",
    "# \tmodel.fit(X_train_list, y_train_scaled[:(steps * shift)], epochs=epochs, batch_size=batch_size)\n",
    "# \tX_test_scaled = pd.read_pickle(\"sets/X_test/\" + ticker_code + \"_X_test_scaled.pkl\")\n",
    "# \ty_test_scaled = pd.read_pickle(\"sets/y_test/\" + ticker_code + \"_y_test_scaled.pkl\")\n",
    "# \tX_test_list = []\n",
    "# \tfor i in range(steps, len(X_test_scaled)):\n",
    "# \t\tX_test_list.append(X_test_scaled[i-steps:i])\n",
    "# \tX_test_list = np.array(X_test_list)\n",
    "# \tscore = model.evaluate(X_test_list, y_test_scaled[:(steps * -1)])\n",
    "# \tprint(f\"{ticker_code} processing finished\")\n",
    "# \tpd.to_pickle(model, \"models/\" + ticker_code + \"_score_\" + str(round(score, 2)) + \"test.pkl\")"
   ]
  },
  {
   "cell_type": "code",
   "execution_count": 42,
   "metadata": {},
   "outputs": [
    {
     "name": "stdout",
     "output_type": "stream",
     "text": [
      "58/58 [==============================] - 1s 9ms/step - loss: 28638.8633\n"
     ]
    }
   ],
   "source": [
    "X_test_scaled = pd.read_pickle(\"sets/X_test/\" + ticker_code + \"_X_test_scaled.pkl\")\n",
    "y_test_scaled = pd.read_pickle(\"sets/y_test/\" + ticker_code + \"_y_test.pkl\")\n",
    "X_test_list = []\n",
    "for i in range(steps, len(X_test_scaled)):\n",
    "\tX_test_list.append(X_test_scaled[i-steps:i])\n",
    "X_test_list = np.array(X_test_list)\n",
    "score = model.evaluate(X_test_list, y_test_scaled.iloc[steps:])"
   ]
  },
  {
   "cell_type": "code",
   "execution_count": 6,
   "metadata": {},
   "outputs": [
    {
     "data": {
      "text/plain": [
       "7403     40.121540\n",
       "7404     40.112701\n",
       "7405     40.953159\n",
       "7406     41.475151\n",
       "7407     41.315907\n",
       "           ...    \n",
       "9248    242.050003\n",
       "9249    245.029999\n",
       "9250    247.580002\n",
       "9251    247.490005\n",
       "9252    242.179993\n",
       "Name: Close, Length: 1850, dtype: float64"
      ]
     },
     "execution_count": 6,
     "metadata": {},
     "output_type": "execute_result"
    }
   ],
   "source": [
    "y_test_scaled"
   ]
  },
  {
   "cell_type": "code",
   "execution_count": 1,
   "metadata": {},
   "outputs": [
    {
     "ename": "NameError",
     "evalue": "name 'pd' is not defined",
     "output_type": "error",
     "traceback": [
      "\u001b[1;31m---------------------------------------------------------------------------\u001b[0m",
      "\u001b[1;31mNameError\u001b[0m                                 Traceback (most recent call last)",
      "Cell \u001b[1;32mIn [1], line 3\u001b[0m\n\u001b[0;32m      1\u001b[0m file \u001b[39m=\u001b[39m \u001b[39m\"\u001b[39m\u001b[39mPFE.csv\u001b[39m\u001b[39m\"\u001b[39m\n\u001b[0;32m      2\u001b[0m ticker_code \u001b[39m=\u001b[39m file\u001b[39m.\u001b[39mreplace(\u001b[39m\"\u001b[39m\u001b[39m.csv\u001b[39m\u001b[39m\"\u001b[39m, \u001b[39m\"\u001b[39m\u001b[39m\"\u001b[39m)\n\u001b[1;32m----> 3\u001b[0m dataset \u001b[39m=\u001b[39m pd\u001b[39m.\u001b[39mread_csv(\u001b[39m\"\u001b[39m\u001b[39mdata/\u001b[39m\u001b[39m\"\u001b[39m \u001b[39m+\u001b[39m file)\n\u001b[0;32m      4\u001b[0m shift \u001b[39m=\u001b[39m \u001b[39m-\u001b[39m\u001b[39m1\u001b[39m\n\u001b[0;32m      5\u001b[0m dataset \u001b[39m=\u001b[39m dataset\u001b[39m.\u001b[39mdrop(columns\u001b[39m=\u001b[39m[\u001b[39m\"\u001b[39m\u001b[39mDate\u001b[39m\u001b[39m\"\u001b[39m, \u001b[39m\"\u001b[39m\u001b[39mDividends\u001b[39m\u001b[39m\"\u001b[39m, \u001b[39m\"\u001b[39m\u001b[39mStock Splits\u001b[39m\u001b[39m\"\u001b[39m])\n",
      "\u001b[1;31mNameError\u001b[0m: name 'pd' is not defined"
     ]
    }
   ],
   "source": [
    "file = \"PFE.csv\"\n",
    "ticker_code = file.replace(\".csv\", \"\")\n",
    "dataset = pd.read_csv(\"data/\" + file)\n",
    "shift = -1\n",
    "dataset = dataset.drop(columns=[\"Date\", \"Dividends\", \"Stock Splits\"])\n",
    "X_train = dataset.drop(columns=[\"Close\"])[:shift]\n",
    "y_train = dataset[\"Close\"].shift(shift).dropna()\n",
    "x_scaler = MinMaxScaler()\n",
    "X_train_scaled = x_scaler.fit_transform(X_train)\n",
    "y_train_scaled = (np.array(y_train).reshape(-1,1))"
   ]
  },
  {
   "cell_type": "code",
   "execution_count": 58,
   "metadata": {},
   "outputs": [
    {
     "data": {
      "text/plain": [
       "(9253, 9253)"
      ]
     },
     "execution_count": 58,
     "metadata": {},
     "output_type": "execute_result"
    }
   ],
   "source": [
    "len(X_train_scaled), len(y_train)"
   ]
  },
  {
   "cell_type": "code",
   "execution_count": 59,
   "metadata": {},
   "outputs": [
    {
     "name": "stdout",
     "output_type": "stream",
     "text": [
      "Epoch 1/10\n",
      "251/251 [==============================] - 138s 514ms/step - loss: 3294.1509\n",
      "Epoch 2/10\n",
      "251/251 [==============================] - 128s 511ms/step - loss: 2986.9536\n",
      "Epoch 3/10\n",
      "251/251 [==============================] - 126s 501ms/step - loss: 2934.0713\n",
      "Epoch 4/10\n",
      "251/251 [==============================] - 130s 518ms/step - loss: 2928.1035\n",
      "Epoch 5/10\n",
      "251/251 [==============================] - 137s 543ms/step - loss: 2927.1716\n",
      "Epoch 6/10\n",
      "251/251 [==============================] - 126s 504ms/step - loss: 2927.3579\n",
      "Epoch 7/10\n",
      "251/251 [==============================] - 122s 485ms/step - loss: 2927.0730\n",
      "Epoch 8/10\n",
      "251/251 [==============================] - 126s 501ms/step - loss: 2927.3752\n",
      "Epoch 9/10\n",
      "251/251 [==============================] - 123s 489ms/step - loss: 2927.1858\n",
      "Epoch 10/10\n",
      "251/251 [==============================] - 118s 469ms/step - loss: 2927.5850\n"
     ]
    },
    {
     "data": {
      "text/plain": [
       "<keras.callbacks.History at 0x1b60f36d570>"
      ]
     },
     "execution_count": 59,
     "metadata": {},
     "output_type": "execute_result"
    }
   ],
   "source": [
    "steps = 250\n",
    "epochs = 10\n",
    "nodes_per_layer = 64\n",
    "shift = -1\n",
    "batch_size = 36\n",
    "loss_function = \"mean_squared_error\"\n",
    "dropout_rate = 0.2\n",
    "\n",
    "X_train_list = []\n",
    "for i in range(steps, len(X_train)):\n",
    "\tX_train_list.append(X_train[i-steps:i])\n",
    "X_train_list = np.array(X_train_list)\n",
    "model = Sequential()\n",
    "model.add(LSTM(nodes_per_layer, activation='relu', input_shape=(steps, X_train_list.shape[2]), return_sequences=True))\n",
    "model.add(Dropout(dropout_rate))\n",
    "model.add(LSTM(nodes_per_layer, return_sequences=True))\n",
    "model.add(Dropout(dropout_rate))\n",
    "model.add(LSTM(nodes_per_layer, return_sequences=True))\n",
    "model.add(Dropout(dropout_rate))\n",
    "model.add(LSTM(nodes_per_layer, return_sequences=True))\n",
    "model.add(Dropout(dropout_rate))\n",
    "model.add(LSTM(nodes_per_layer, return_sequences=True))\n",
    "model.add(Dropout(dropout_rate))\n",
    "model.add(LSTM(nodes_per_layer, return_sequences=True))\n",
    "model.add(Dropout(dropout_rate))\n",
    "model.add(LSTM(nodes_per_layer, return_sequences=False))\n",
    "model.add(Dense(units=1, activation='relu'))\n",
    "model.compile(optimizer='adam', loss=loss_function)\n",
    "model.fit(X_train_list, y_train_scaled[:(steps * -1)], epochs=epochs, batch_size=batch_size)\n",
    "# X_test_scaled = pd.read_pickle(\"sets/X_test/\" + ticker_code + \"_X_test_scaled.pkl\")\n",
    "# y_test_scaled = pd.read_pickle(\"sets/y_test/\" + ticker_code + \"_y_test_scaled.pkl\")\n",
    "# X_test_list = []\n",
    "# for i in range(steps, len(X_test_scaled)):\n",
    "# \tX_test_list.append(X_test_scaled[i-steps:i])\n",
    "# X_test_list = np.array(X_test_list)\n",
    "# score = model.evaluate(X_test_list, y_test_scaled[:(steps * -1)])"
   ]
  },
  {
   "cell_type": "code",
   "execution_count": 64,
   "metadata": {},
   "outputs": [
    {
     "name": "stderr",
     "output_type": "stream",
     "text": [
      "C:\\Users\\BogPoet\\AppData\\Local\\Temp\\ipykernel_18092\\3351189164.py:7: FutureWarning: The behavior of `series[i:j]` with an integer-dtype index is deprecated. In a future version, this will be treated as *label-based* indexing, consistent with e.g. `series[i]` lookups. To retain the old behavior, use `series.iloc[i:j]`. To get the future behavior, use `series.loc[i:j]`.\n",
      "  score = model.evaluate(X_test_list, y_test_scaled[:(steps * -1)])\n"
     ]
    },
    {
     "name": "stdout",
     "output_type": "stream",
     "text": [
      "50/50 [==============================] - 12s 192ms/step - loss: 14131.1064\n"
     ]
    }
   ],
   "source": [
    "ticker_code = \"PFE\"\n",
    "X_test_scaled = pd.read_pickle(\"sets/X_test/\" + ticker_code + \"_X_test_scaled.pkl\")\n",
    "y_test_scaled = pd.read_pickle(\"sets/y_test/\" + ticker_code + \"_y_test.pkl\")\n",
    "X_test_list = []\n",
    "for i in range(steps, len(X_test_scaled)):\n",
    "\tX_test_list.append(X_test_scaled[i-steps:i])\n",
    "X_test_list = np.array(X_test_list)\n",
    "score = model.evaluate(X_test_list, y_test_scaled[:(steps * -1)])"
   ]
  },
  {
   "cell_type": "code",
   "execution_count": 87,
   "metadata": {},
   "outputs": [
    {
     "name": "stdout",
     "output_type": "stream",
     "text": [
      "1/1 [==============================] - 2s 2s/step\n"
     ]
    },
    {
     "data": {
      "text/plain": [
       "array([[33.559208]], dtype=float32)"
      ]
     },
     "execution_count": 87,
     "metadata": {},
     "output_type": "execute_result"
    }
   ],
   "source": [
    "X_test_list = []\n",
    "for i in range(steps, len(X_test_scaled)):\n",
    "\tX_test_list.append(X_test_scaled[i-steps:i])\n",
    "X_test_list = np.array(X_test_list)\n",
    "model.predict(X_test_list[len(X_test_list) - 1].reshape(1, 250, 4))"
   ]
  },
  {
   "cell_type": "code",
   "execution_count": 89,
   "metadata": {},
   "outputs": [
    {
     "data": {
      "text/html": [
       "<div>\n",
       "<style scoped>\n",
       "    .dataframe tbody tr th:only-of-type {\n",
       "        vertical-align: middle;\n",
       "    }\n",
       "\n",
       "    .dataframe tbody tr th {\n",
       "        vertical-align: top;\n",
       "    }\n",
       "\n",
       "    .dataframe thead th {\n",
       "        text-align: right;\n",
       "    }\n",
       "</style>\n",
       "<table border=\"1\" class=\"dataframe\">\n",
       "  <thead>\n",
       "    <tr style=\"text-align: right;\">\n",
       "      <th></th>\n",
       "      <th>Open</th>\n",
       "      <th>High</th>\n",
       "      <th>Low</th>\n",
       "      <th>Volume</th>\n",
       "    </tr>\n",
       "  </thead>\n",
       "  <tbody>\n",
       "    <tr>\n",
       "      <th>0</th>\n",
       "      <td>0.055380</td>\n",
       "      <td>0.063524</td>\n",
       "      <td>0.055380</td>\n",
       "      <td>1031788800</td>\n",
       "    </tr>\n",
       "    <tr>\n",
       "      <th>1</th>\n",
       "      <td>0.060809</td>\n",
       "      <td>0.064067</td>\n",
       "      <td>0.060809</td>\n",
       "      <td>308160000</td>\n",
       "    </tr>\n",
       "    <tr>\n",
       "      <th>2</th>\n",
       "      <td>0.062980</td>\n",
       "      <td>0.064609</td>\n",
       "      <td>0.062980</td>\n",
       "      <td>133171200</td>\n",
       "    </tr>\n",
       "    <tr>\n",
       "      <th>3</th>\n",
       "      <td>0.064067</td>\n",
       "      <td>0.064609</td>\n",
       "      <td>0.061894</td>\n",
       "      <td>67766400</td>\n",
       "    </tr>\n",
       "    <tr>\n",
       "      <th>4</th>\n",
       "      <td>0.062437</td>\n",
       "      <td>0.062980</td>\n",
       "      <td>0.060809</td>\n",
       "      <td>47894400</td>\n",
       "    </tr>\n",
       "    <tr>\n",
       "      <th>...</th>\n",
       "      <td>...</td>\n",
       "      <td>...</td>\n",
       "      <td>...</td>\n",
       "      <td>...</td>\n",
       "    </tr>\n",
       "    <tr>\n",
       "      <th>9248</th>\n",
       "      <td>243.509995</td>\n",
       "      <td>243.740005</td>\n",
       "      <td>239.029999</td>\n",
       "      <td>27591800</td>\n",
       "    </tr>\n",
       "    <tr>\n",
       "      <th>9249</th>\n",
       "      <td>241.429993</td>\n",
       "      <td>244.669998</td>\n",
       "      <td>241.190002</td>\n",
       "      <td>26394700</td>\n",
       "    </tr>\n",
       "    <tr>\n",
       "      <th>9250</th>\n",
       "      <td>243.589996</td>\n",
       "      <td>245.309998</td>\n",
       "      <td>240.710007</td>\n",
       "      <td>19665700</td>\n",
       "    </tr>\n",
       "    <tr>\n",
       "      <th>9251</th>\n",
       "      <td>245.110001</td>\n",
       "      <td>248.279999</td>\n",
       "      <td>244.270004</td>\n",
       "      <td>19508500</td>\n",
       "    </tr>\n",
       "    <tr>\n",
       "      <th>9252</th>\n",
       "      <td>247.309998</td>\n",
       "      <td>248.699997</td>\n",
       "      <td>246.729996</td>\n",
       "      <td>9200800</td>\n",
       "    </tr>\n",
       "  </tbody>\n",
       "</table>\n",
       "<p>9253 rows × 4 columns</p>\n",
       "</div>"
      ],
      "text/plain": [
       "            Open        High         Low      Volume\n",
       "0       0.055380    0.063524    0.055380  1031788800\n",
       "1       0.060809    0.064067    0.060809   308160000\n",
       "2       0.062980    0.064609    0.062980   133171200\n",
       "3       0.064067    0.064609    0.061894    67766400\n",
       "4       0.062437    0.062980    0.060809    47894400\n",
       "...          ...         ...         ...         ...\n",
       "9248  243.509995  243.740005  239.029999    27591800\n",
       "9249  241.429993  244.669998  241.190002    26394700\n",
       "9250  243.589996  245.309998  240.710007    19665700\n",
       "9251  245.110001  248.279999  244.270004    19508500\n",
       "9252  247.309998  248.699997  246.729996     9200800\n",
       "\n",
       "[9253 rows x 4 columns]"
      ]
     },
     "execution_count": 89,
     "metadata": {},
     "output_type": "execute_result"
    }
   ],
   "source": [
    "X_train"
   ]
  },
  {
   "cell_type": "code",
   "execution_count": 38,
   "metadata": {},
   "outputs": [],
   "source": [
    "from datetime import timedelta, time, date\n",
    "import yfinance as yf\n",
    "\n",
    "ticker_code = \"MSFT\"\n",
    "ticker = yf.Ticker(ticker_code.replace(\".\", \"-\"))\n",
    "twenty_days_ago = np.busday_offset(dates=date.today(), offsets=(steps * -1), roll='backward')\n",
    "raw_input = ticker.history(start=str(twenty_days_ago))\n",
    "# if len(input) != 20:\n",
    "# \tprint(\"ERROR\")\n",
    "# len(input)\n",
    "original_input = raw_input.reset_index().drop(columns=[\"Date\", \"Dividends\", \"Stock Splits\", \"Close\"])\n",
    "\n",
    "# sc = pd.read_pickle(\"scalers/\" + ticker_code + \"_x_scaler.pkl\")\n",
    "input = x_scaler.transform(original_input)\n",
    "input = input.reshape(-1, input.shape[0], input.shape[1])"
   ]
  },
  {
   "cell_type": "code",
   "execution_count": 40,
   "metadata": {},
   "outputs": [
    {
     "name": "stdout",
     "output_type": "stream",
     "text": [
      "1/1 [==============================] - 2s 2s/step\n"
     ]
    },
    {
     "data": {
      "text/plain": [
       "array([[39.133324]], dtype=float32)"
      ]
     },
     "execution_count": 40,
     "metadata": {},
     "output_type": "execute_result"
    }
   ],
   "source": [
    "model.predict(input)"
   ]
  },
  {
   "cell_type": "code",
   "execution_count": 48,
   "metadata": {},
   "outputs": [],
   "source": [
    "msft_csv = pd.read_csv(\"data/MSFT.csv\")\n",
    "msft_X_pkl = pd.read_pickle(\"sets/X_train/MSFT_X_train.pkl\")\n",
    "msft_y_pkl = pd.read_pickle(\"sets/y_train/MSFT_y_train.pkl\")"
   ]
  },
  {
   "cell_type": "code",
   "execution_count": 49,
   "metadata": {},
   "outputs": [
    {
     "data": {
      "text/html": [
       "<div>\n",
       "<style scoped>\n",
       "    .dataframe tbody tr th:only-of-type {\n",
       "        vertical-align: middle;\n",
       "    }\n",
       "\n",
       "    .dataframe tbody tr th {\n",
       "        vertical-align: top;\n",
       "    }\n",
       "\n",
       "    .dataframe thead th {\n",
       "        text-align: right;\n",
       "    }\n",
       "</style>\n",
       "<table border=\"1\" class=\"dataframe\">\n",
       "  <thead>\n",
       "    <tr style=\"text-align: right;\">\n",
       "      <th></th>\n",
       "      <th>Date</th>\n",
       "      <th>Open</th>\n",
       "      <th>High</th>\n",
       "      <th>Low</th>\n",
       "      <th>Close</th>\n",
       "      <th>Volume</th>\n",
       "      <th>Dividends</th>\n",
       "      <th>Stock Splits</th>\n",
       "    </tr>\n",
       "  </thead>\n",
       "  <tbody>\n",
       "    <tr>\n",
       "      <th>0</th>\n",
       "      <td>1986-03-13 00:00:00-05:00</td>\n",
       "      <td>0.055380</td>\n",
       "      <td>0.063524</td>\n",
       "      <td>0.055380</td>\n",
       "      <td>0.060809</td>\n",
       "      <td>1031788800</td>\n",
       "      <td>0.0</td>\n",
       "      <td>0.0</td>\n",
       "    </tr>\n",
       "    <tr>\n",
       "      <th>1</th>\n",
       "      <td>1986-03-14 00:00:00-05:00</td>\n",
       "      <td>0.060809</td>\n",
       "      <td>0.064067</td>\n",
       "      <td>0.060809</td>\n",
       "      <td>0.062980</td>\n",
       "      <td>308160000</td>\n",
       "      <td>0.0</td>\n",
       "      <td>0.0</td>\n",
       "    </tr>\n",
       "    <tr>\n",
       "      <th>2</th>\n",
       "      <td>1986-03-17 00:00:00-05:00</td>\n",
       "      <td>0.062980</td>\n",
       "      <td>0.064609</td>\n",
       "      <td>0.062980</td>\n",
       "      <td>0.064067</td>\n",
       "      <td>133171200</td>\n",
       "      <td>0.0</td>\n",
       "      <td>0.0</td>\n",
       "    </tr>\n",
       "    <tr>\n",
       "      <th>3</th>\n",
       "      <td>1986-03-18 00:00:00-05:00</td>\n",
       "      <td>0.064067</td>\n",
       "      <td>0.064609</td>\n",
       "      <td>0.061894</td>\n",
       "      <td>0.062437</td>\n",
       "      <td>67766400</td>\n",
       "      <td>0.0</td>\n",
       "      <td>0.0</td>\n",
       "    </tr>\n",
       "    <tr>\n",
       "      <th>4</th>\n",
       "      <td>1986-03-19 00:00:00-05:00</td>\n",
       "      <td>0.062437</td>\n",
       "      <td>0.062980</td>\n",
       "      <td>0.060809</td>\n",
       "      <td>0.061351</td>\n",
       "      <td>47894400</td>\n",
       "      <td>0.0</td>\n",
       "      <td>0.0</td>\n",
       "    </tr>\n",
       "  </tbody>\n",
       "</table>\n",
       "</div>"
      ],
      "text/plain": [
       "                        Date      Open      High       Low     Close  \\\n",
       "0  1986-03-13 00:00:00-05:00  0.055380  0.063524  0.055380  0.060809   \n",
       "1  1986-03-14 00:00:00-05:00  0.060809  0.064067  0.060809  0.062980   \n",
       "2  1986-03-17 00:00:00-05:00  0.062980  0.064609  0.062980  0.064067   \n",
       "3  1986-03-18 00:00:00-05:00  0.064067  0.064609  0.061894  0.062437   \n",
       "4  1986-03-19 00:00:00-05:00  0.062437  0.062980  0.060809  0.061351   \n",
       "\n",
       "       Volume  Dividends  Stock Splits  \n",
       "0  1031788800        0.0           0.0  \n",
       "1   308160000        0.0           0.0  \n",
       "2   133171200        0.0           0.0  \n",
       "3    67766400        0.0           0.0  \n",
       "4    47894400        0.0           0.0  "
      ]
     },
     "metadata": {},
     "output_type": "display_data"
    },
    {
     "data": {
      "text/html": [
       "<div>\n",
       "<style scoped>\n",
       "    .dataframe tbody tr th:only-of-type {\n",
       "        vertical-align: middle;\n",
       "    }\n",
       "\n",
       "    .dataframe tbody tr th {\n",
       "        vertical-align: top;\n",
       "    }\n",
       "\n",
       "    .dataframe thead th {\n",
       "        text-align: right;\n",
       "    }\n",
       "</style>\n",
       "<table border=\"1\" class=\"dataframe\">\n",
       "  <thead>\n",
       "    <tr style=\"text-align: right;\">\n",
       "      <th></th>\n",
       "      <th>Open</th>\n",
       "      <th>High</th>\n",
       "      <th>Low</th>\n",
       "      <th>Volume</th>\n",
       "    </tr>\n",
       "  </thead>\n",
       "  <tbody>\n",
       "    <tr>\n",
       "      <th>0</th>\n",
       "      <td>0.055380</td>\n",
       "      <td>0.063524</td>\n",
       "      <td>0.055380</td>\n",
       "      <td>1031788800</td>\n",
       "    </tr>\n",
       "    <tr>\n",
       "      <th>1</th>\n",
       "      <td>0.060809</td>\n",
       "      <td>0.064067</td>\n",
       "      <td>0.060809</td>\n",
       "      <td>308160000</td>\n",
       "    </tr>\n",
       "    <tr>\n",
       "      <th>2</th>\n",
       "      <td>0.062980</td>\n",
       "      <td>0.064609</td>\n",
       "      <td>0.062980</td>\n",
       "      <td>133171200</td>\n",
       "    </tr>\n",
       "    <tr>\n",
       "      <th>3</th>\n",
       "      <td>0.064067</td>\n",
       "      <td>0.064609</td>\n",
       "      <td>0.061894</td>\n",
       "      <td>67766400</td>\n",
       "    </tr>\n",
       "    <tr>\n",
       "      <th>4</th>\n",
       "      <td>0.062437</td>\n",
       "      <td>0.062980</td>\n",
       "      <td>0.060809</td>\n",
       "      <td>47894400</td>\n",
       "    </tr>\n",
       "  </tbody>\n",
       "</table>\n",
       "</div>"
      ],
      "text/plain": [
       "       Open      High       Low      Volume\n",
       "0  0.055380  0.063524  0.055380  1031788800\n",
       "1  0.060809  0.064067  0.060809   308160000\n",
       "2  0.062980  0.064609  0.062980   133171200\n",
       "3  0.064067  0.064609  0.061894    67766400\n",
       "4  0.062437  0.062980  0.060809    47894400"
      ]
     },
     "metadata": {},
     "output_type": "display_data"
    },
    {
     "data": {
      "text/plain": [
       "0    0.062980\n",
       "1    0.064067\n",
       "2    0.062437\n",
       "3    0.061351\n",
       "4    0.059723\n",
       "Name: Close, dtype: float64"
      ]
     },
     "metadata": {},
     "output_type": "display_data"
    }
   ],
   "source": [
    "display(msft_csv.head())\n",
    "display(msft_X_pkl.head())\n",
    "display(msft_y_pkl.head())"
   ]
  },
  {
   "cell_type": "code",
   "execution_count": 50,
   "metadata": {},
   "outputs": [
    {
     "data": {
      "text/html": [
       "<div>\n",
       "<style scoped>\n",
       "    .dataframe tbody tr th:only-of-type {\n",
       "        vertical-align: middle;\n",
       "    }\n",
       "\n",
       "    .dataframe tbody tr th {\n",
       "        vertical-align: top;\n",
       "    }\n",
       "\n",
       "    .dataframe thead th {\n",
       "        text-align: right;\n",
       "    }\n",
       "</style>\n",
       "<table border=\"1\" class=\"dataframe\">\n",
       "  <thead>\n",
       "    <tr style=\"text-align: right;\">\n",
       "      <th></th>\n",
       "      <th>Date</th>\n",
       "      <th>Open</th>\n",
       "      <th>High</th>\n",
       "      <th>Low</th>\n",
       "      <th>Close</th>\n",
       "      <th>Volume</th>\n",
       "      <th>Dividends</th>\n",
       "      <th>Stock Splits</th>\n",
       "    </tr>\n",
       "  </thead>\n",
       "  <tbody>\n",
       "    <tr>\n",
       "      <th>9249</th>\n",
       "      <td>2022-11-21 00:00:00-05:00</td>\n",
       "      <td>241.429993</td>\n",
       "      <td>244.669998</td>\n",
       "      <td>241.190002</td>\n",
       "      <td>242.050003</td>\n",
       "      <td>26394700</td>\n",
       "      <td>0.0</td>\n",
       "      <td>0.0</td>\n",
       "    </tr>\n",
       "    <tr>\n",
       "      <th>9250</th>\n",
       "      <td>2022-11-22 00:00:00-05:00</td>\n",
       "      <td>243.589996</td>\n",
       "      <td>245.309998</td>\n",
       "      <td>240.710007</td>\n",
       "      <td>245.029999</td>\n",
       "      <td>19665700</td>\n",
       "      <td>0.0</td>\n",
       "      <td>0.0</td>\n",
       "    </tr>\n",
       "    <tr>\n",
       "      <th>9251</th>\n",
       "      <td>2022-11-23 00:00:00-05:00</td>\n",
       "      <td>245.110001</td>\n",
       "      <td>248.279999</td>\n",
       "      <td>244.270004</td>\n",
       "      <td>247.580002</td>\n",
       "      <td>19508500</td>\n",
       "      <td>0.0</td>\n",
       "      <td>0.0</td>\n",
       "    </tr>\n",
       "    <tr>\n",
       "      <th>9252</th>\n",
       "      <td>2022-11-25 00:00:00-05:00</td>\n",
       "      <td>247.309998</td>\n",
       "      <td>248.699997</td>\n",
       "      <td>246.729996</td>\n",
       "      <td>247.490005</td>\n",
       "      <td>9200800</td>\n",
       "      <td>0.0</td>\n",
       "      <td>0.0</td>\n",
       "    </tr>\n",
       "    <tr>\n",
       "      <th>9253</th>\n",
       "      <td>2022-11-28 00:00:00-05:00</td>\n",
       "      <td>246.080002</td>\n",
       "      <td>246.610001</td>\n",
       "      <td>241.979996</td>\n",
       "      <td>242.179993</td>\n",
       "      <td>11004493</td>\n",
       "      <td>0.0</td>\n",
       "      <td>0.0</td>\n",
       "    </tr>\n",
       "  </tbody>\n",
       "</table>\n",
       "</div>"
      ],
      "text/plain": [
       "                           Date        Open        High         Low  \\\n",
       "9249  2022-11-21 00:00:00-05:00  241.429993  244.669998  241.190002   \n",
       "9250  2022-11-22 00:00:00-05:00  243.589996  245.309998  240.710007   \n",
       "9251  2022-11-23 00:00:00-05:00  245.110001  248.279999  244.270004   \n",
       "9252  2022-11-25 00:00:00-05:00  247.309998  248.699997  246.729996   \n",
       "9253  2022-11-28 00:00:00-05:00  246.080002  246.610001  241.979996   \n",
       "\n",
       "           Close    Volume  Dividends  Stock Splits  \n",
       "9249  242.050003  26394700        0.0           0.0  \n",
       "9250  245.029999  19665700        0.0           0.0  \n",
       "9251  247.580002  19508500        0.0           0.0  \n",
       "9252  247.490005   9200800        0.0           0.0  \n",
       "9253  242.179993  11004493        0.0           0.0  "
      ]
     },
     "execution_count": 50,
     "metadata": {},
     "output_type": "execute_result"
    }
   ],
   "source": [
    "msft_csv.tail()"
   ]
  },
  {
   "cell_type": "code",
   "execution_count": 51,
   "metadata": {},
   "outputs": [],
   "source": [
    "bac_csv = pd.read_csv(\"data/BAC.csv\")\n",
    "bac_X_pkl = pd.read_pickle(\"sets/X_train/BAC_X_train.pkl\")\n",
    "bac_y_pkl = pd.read_pickle(\"sets/y_train/BAC_y_train.pkl\")"
   ]
  },
  {
   "cell_type": "code",
   "execution_count": 52,
   "metadata": {},
   "outputs": [
    {
     "data": {
      "text/html": [
       "<div>\n",
       "<style scoped>\n",
       "    .dataframe tbody tr th:only-of-type {\n",
       "        vertical-align: middle;\n",
       "    }\n",
       "\n",
       "    .dataframe tbody tr th {\n",
       "        vertical-align: top;\n",
       "    }\n",
       "\n",
       "    .dataframe thead th {\n",
       "        text-align: right;\n",
       "    }\n",
       "</style>\n",
       "<table border=\"1\" class=\"dataframe\">\n",
       "  <thead>\n",
       "    <tr style=\"text-align: right;\">\n",
       "      <th></th>\n",
       "      <th>Date</th>\n",
       "      <th>Open</th>\n",
       "      <th>High</th>\n",
       "      <th>Low</th>\n",
       "      <th>Close</th>\n",
       "      <th>Volume</th>\n",
       "      <th>Dividends</th>\n",
       "      <th>Stock Splits</th>\n",
       "    </tr>\n",
       "  </thead>\n",
       "  <tbody>\n",
       "    <tr>\n",
       "      <th>0</th>\n",
       "      <td>1973-02-21 00:00:00-05:00</td>\n",
       "      <td>1.640599</td>\n",
       "      <td>1.640599</td>\n",
       "      <td>1.640599</td>\n",
       "      <td>1.640599</td>\n",
       "      <td>99200</td>\n",
       "      <td>0.0</td>\n",
       "      <td>0.0</td>\n",
       "    </tr>\n",
       "    <tr>\n",
       "      <th>1</th>\n",
       "      <td>1973-02-22 00:00:00-05:00</td>\n",
       "      <td>1.646143</td>\n",
       "      <td>1.646143</td>\n",
       "      <td>1.646143</td>\n",
       "      <td>1.646143</td>\n",
       "      <td>47200</td>\n",
       "      <td>0.0</td>\n",
       "      <td>0.0</td>\n",
       "    </tr>\n",
       "    <tr>\n",
       "      <th>2</th>\n",
       "      <td>1973-02-23 00:00:00-05:00</td>\n",
       "      <td>1.640599</td>\n",
       "      <td>1.640599</td>\n",
       "      <td>1.640599</td>\n",
       "      <td>1.640599</td>\n",
       "      <td>133600</td>\n",
       "      <td>0.0</td>\n",
       "      <td>0.0</td>\n",
       "    </tr>\n",
       "    <tr>\n",
       "      <th>3</th>\n",
       "      <td>1973-02-26 00:00:00-05:00</td>\n",
       "      <td>1.640599</td>\n",
       "      <td>1.640599</td>\n",
       "      <td>1.640599</td>\n",
       "      <td>1.640599</td>\n",
       "      <td>24000</td>\n",
       "      <td>0.0</td>\n",
       "      <td>0.0</td>\n",
       "    </tr>\n",
       "    <tr>\n",
       "      <th>4</th>\n",
       "      <td>1973-02-27 00:00:00-05:00</td>\n",
       "      <td>1.640599</td>\n",
       "      <td>1.640599</td>\n",
       "      <td>1.640599</td>\n",
       "      <td>1.640599</td>\n",
       "      <td>41600</td>\n",
       "      <td>0.0</td>\n",
       "      <td>0.0</td>\n",
       "    </tr>\n",
       "  </tbody>\n",
       "</table>\n",
       "</div>"
      ],
      "text/plain": [
       "                        Date      Open      High       Low     Close  Volume  \\\n",
       "0  1973-02-21 00:00:00-05:00  1.640599  1.640599  1.640599  1.640599   99200   \n",
       "1  1973-02-22 00:00:00-05:00  1.646143  1.646143  1.646143  1.646143   47200   \n",
       "2  1973-02-23 00:00:00-05:00  1.640599  1.640599  1.640599  1.640599  133600   \n",
       "3  1973-02-26 00:00:00-05:00  1.640599  1.640599  1.640599  1.640599   24000   \n",
       "4  1973-02-27 00:00:00-05:00  1.640599  1.640599  1.640599  1.640599   41600   \n",
       "\n",
       "   Dividends  Stock Splits  \n",
       "0        0.0           0.0  \n",
       "1        0.0           0.0  \n",
       "2        0.0           0.0  \n",
       "3        0.0           0.0  \n",
       "4        0.0           0.0  "
      ]
     },
     "metadata": {},
     "output_type": "display_data"
    },
    {
     "data": {
      "text/html": [
       "<div>\n",
       "<style scoped>\n",
       "    .dataframe tbody tr th:only-of-type {\n",
       "        vertical-align: middle;\n",
       "    }\n",
       "\n",
       "    .dataframe tbody tr th {\n",
       "        vertical-align: top;\n",
       "    }\n",
       "\n",
       "    .dataframe thead th {\n",
       "        text-align: right;\n",
       "    }\n",
       "</style>\n",
       "<table border=\"1\" class=\"dataframe\">\n",
       "  <thead>\n",
       "    <tr style=\"text-align: right;\">\n",
       "      <th></th>\n",
       "      <th>Open</th>\n",
       "      <th>High</th>\n",
       "      <th>Low</th>\n",
       "      <th>Volume</th>\n",
       "    </tr>\n",
       "  </thead>\n",
       "  <tbody>\n",
       "    <tr>\n",
       "      <th>0</th>\n",
       "      <td>1.640599</td>\n",
       "      <td>1.640599</td>\n",
       "      <td>1.640599</td>\n",
       "      <td>99200</td>\n",
       "    </tr>\n",
       "    <tr>\n",
       "      <th>1</th>\n",
       "      <td>1.646143</td>\n",
       "      <td>1.646143</td>\n",
       "      <td>1.646143</td>\n",
       "      <td>47200</td>\n",
       "    </tr>\n",
       "    <tr>\n",
       "      <th>2</th>\n",
       "      <td>1.640599</td>\n",
       "      <td>1.640599</td>\n",
       "      <td>1.640599</td>\n",
       "      <td>133600</td>\n",
       "    </tr>\n",
       "    <tr>\n",
       "      <th>3</th>\n",
       "      <td>1.640599</td>\n",
       "      <td>1.640599</td>\n",
       "      <td>1.640599</td>\n",
       "      <td>24000</td>\n",
       "    </tr>\n",
       "    <tr>\n",
       "      <th>4</th>\n",
       "      <td>1.640599</td>\n",
       "      <td>1.640599</td>\n",
       "      <td>1.640599</td>\n",
       "      <td>41600</td>\n",
       "    </tr>\n",
       "  </tbody>\n",
       "</table>\n",
       "</div>"
      ],
      "text/plain": [
       "       Open      High       Low  Volume\n",
       "0  1.640599  1.640599  1.640599   99200\n",
       "1  1.646143  1.646143  1.646143   47200\n",
       "2  1.640599  1.640599  1.640599  133600\n",
       "3  1.640599  1.640599  1.640599   24000\n",
       "4  1.640599  1.640599  1.640599   41600"
      ]
     },
     "metadata": {},
     "output_type": "display_data"
    },
    {
     "data": {
      "text/plain": [
       "0    1.646143\n",
       "1    1.640599\n",
       "2    1.640599\n",
       "3    1.640599\n",
       "4    1.640599\n",
       "Name: Close, dtype: float64"
      ]
     },
     "metadata": {},
     "output_type": "display_data"
    }
   ],
   "source": [
    "display(bac_csv.head())\n",
    "display(bac_X_pkl.head())\n",
    "display(bac_y_pkl.head())"
   ]
  },
  {
   "cell_type": "code",
   "execution_count": 55,
   "metadata": {},
   "outputs": [
    {
     "data": {
      "text/plain": [
       "9254"
      ]
     },
     "execution_count": 55,
     "metadata": {},
     "output_type": "execute_result"
    }
   ],
   "source": [
    "bac_csv.tail()\n",
    "len(bac_csv)\n",
    "len(msft_csv)"
   ]
  },
  {
   "cell_type": "code",
   "execution_count": null,
   "metadata": {},
   "outputs": [],
   "source": []
  }
 ],
 "metadata": {
  "kernelspec": {
   "display_name": "Python 3.10.8 ('final-project')",
   "language": "python",
   "name": "python3"
  },
  "language_info": {
   "codemirror_mode": {
    "name": "ipython",
    "version": 3
   },
   "file_extension": ".py",
   "mimetype": "text/x-python",
   "name": "python",
   "nbconvert_exporter": "python",
   "pygments_lexer": "ipython3",
   "version": "3.10.8"
  },
  "orig_nbformat": 4,
  "vscode": {
   "interpreter": {
    "hash": "937ac2121f4bd33c921bc04ce0336a5d7e4eb91bbd651e21166683a68e8f5aa6"
   }
  }
 },
 "nbformat": 4,
 "nbformat_minor": 2
}
