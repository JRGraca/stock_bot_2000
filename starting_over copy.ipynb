{
 "cells": [
  {
   "cell_type": "code",
   "execution_count": 2,
   "metadata": {},
   "outputs": [],
   "source": [
    "import pandas as pd\n",
    "import numpy as np\n",
    "import pandas_ta as pta\n",
    "import ta\n",
    "# from datapackage import Package\n",
    "# from selenium import webdriver\n",
    "# import requests\n",
    "# from bs4 import BeautifulSoup\n",
    "# import yfinance as yf\n",
    "import os\n",
    "import random\n",
    "import shutil\n",
    "import time\n",
    "from tensorflow.keras.layers import LSTM\n",
    "import tensorflow as tf\n",
    "from scipy import stats\n",
    "from sklearn.model_selection import train_test_split\n",
    "from sklearn.preprocessing import MinMaxScaler\n",
    "from numpy import array\n",
    "from tensorflow.keras.utils import plot_model\n",
    "import graphviz\n",
    "import pydot\n",
    "from keras.models import Sequential\n",
    "from keras.layers import LSTM\n",
    "from keras.layers import Dense\n",
    "from keras.layers import Dropout"
   ]
  },
  {
   "cell_type": "code",
   "execution_count": 13,
   "metadata": {},
   "outputs": [
    {
     "name": "stderr",
     "output_type": "stream",
     "text": [
      "C:\\Users\\BogPoet\\AppData\\Local\\Temp\\ipykernel_24952\\1788344482.py:18: FutureWarning: The behavior of `series[i:j]` with an integer-dtype index is deprecated. In a future version, this will be treated as *label-based* indexing, consistent with e.g. `series[i]` lookups. To retain the old behavior, use `series.iloc[i:j]`. To get the future behavior, use `series.loc[i:j]`.\n",
      "  X_test = np.array(X_test.dropna()[:-1]).reshape(-1,1)\n"
     ]
    }
   ],
   "source": [
    "ticker_code = \"A\"\n",
    "csv_file = \"data/\" + ticker_code + \".csv\"\n",
    "shift = -1\n",
    "dataset = pd.read_csv(csv_file)\n",
    "dataset = dataset.drop(columns=[\"Date\", \"Dividends\", \"Stock Splits\"])\n",
    "train_set_len = int(len(dataset) * 0.8)\n",
    "train_set = dataset[:train_set_len]\n",
    "test_set = dataset[train_set_len:]\n",
    "X_train = train_set[\"Close\"]\n",
    "y_train = train_set[\"Close\"].shift(shift).dropna()\n",
    "X_test = test_set[\"Close\"]\n",
    "y_test = test_set[\"Close\"].shift(shift).dropna()\n",
    "x_scaler = MinMaxScaler()\n",
    "y_scaler = MinMaxScaler()\n",
    "X_train = np.array(X_train.dropna()[:-1]).reshape(-1,1)\n",
    "X_train_scaled = x_scaler.fit_transform(X_train)\n",
    "y_train_scaled = y_scaler.fit_transform(np.array(y_train).reshape(-1,1))\n",
    "X_test = np.array(X_test.dropna()[:-1]).reshape(-1,1)\n",
    "X_test_scaled = x_scaler.transform(X_test)\n",
    "y_test_scaled = y_scaler.transform(np.array(y_test).reshape(-1,1))"
   ]
  },
  {
   "cell_type": "code",
   "execution_count": 330,
   "metadata": {},
   "outputs": [
    {
     "data": {
      "text/html": [
       "<div>\n",
       "<style scoped>\n",
       "    .dataframe tbody tr th:only-of-type {\n",
       "        vertical-align: middle;\n",
       "    }\n",
       "\n",
       "    .dataframe tbody tr th {\n",
       "        vertical-align: top;\n",
       "    }\n",
       "\n",
       "    .dataframe thead th {\n",
       "        text-align: right;\n",
       "    }\n",
       "</style>\n",
       "<table border=\"1\" class=\"dataframe\">\n",
       "  <thead>\n",
       "    <tr style=\"text-align: right;\">\n",
       "      <th></th>\n",
       "      <th>Open</th>\n",
       "      <th>High</th>\n",
       "      <th>Low</th>\n",
       "      <th>Close</th>\n",
       "      <th>Volume</th>\n",
       "    </tr>\n",
       "  </thead>\n",
       "  <tbody>\n",
       "    <tr>\n",
       "      <th>0</th>\n",
       "      <td>128.459755</td>\n",
       "      <td>129.615707</td>\n",
       "      <td>126.277401</td>\n",
       "      <td>127.114464</td>\n",
       "      <td>3403100</td>\n",
       "    </tr>\n",
       "    <tr>\n",
       "      <th>1</th>\n",
       "      <td>127.413416</td>\n",
       "      <td>128.529499</td>\n",
       "      <td>122.002382</td>\n",
       "      <td>122.660072</td>\n",
       "      <td>1757600</td>\n",
       "    </tr>\n",
       "    <tr>\n",
       "      <th>2</th>\n",
       "      <td>122.530518</td>\n",
       "      <td>128.738760</td>\n",
       "      <td>121.872827</td>\n",
       "      <td>128.649078</td>\n",
       "      <td>1444400</td>\n",
       "    </tr>\n",
       "    <tr>\n",
       "      <th>3</th>\n",
       "      <td>127.174265</td>\n",
       "      <td>128.270422</td>\n",
       "      <td>125.978452</td>\n",
       "      <td>128.041229</td>\n",
       "      <td>1722800</td>\n",
       "    </tr>\n",
       "    <tr>\n",
       "      <th>4</th>\n",
       "      <td>128.928115</td>\n",
       "      <td>129.545944</td>\n",
       "      <td>126.526529</td>\n",
       "      <td>127.184219</td>\n",
       "      <td>1310600</td>\n",
       "    </tr>\n",
       "    <tr>\n",
       "      <th>...</th>\n",
       "      <td>...</td>\n",
       "      <td>...</td>\n",
       "      <td>...</td>\n",
       "      <td>...</td>\n",
       "      <td>...</td>\n",
       "    </tr>\n",
       "    <tr>\n",
       "      <th>121</th>\n",
       "      <td>145.619995</td>\n",
       "      <td>147.160004</td>\n",
       "      <td>144.429993</td>\n",
       "      <td>145.139999</td>\n",
       "      <td>1691900</td>\n",
       "    </tr>\n",
       "    <tr>\n",
       "      <th>122</th>\n",
       "      <td>151.979996</td>\n",
       "      <td>157.440002</td>\n",
       "      <td>151.979996</td>\n",
       "      <td>156.860001</td>\n",
       "      <td>3512500</td>\n",
       "    </tr>\n",
       "    <tr>\n",
       "      <th>123</th>\n",
       "      <td>156.669998</td>\n",
       "      <td>157.279999</td>\n",
       "      <td>154.350006</td>\n",
       "      <td>155.350006</td>\n",
       "      <td>1444100</td>\n",
       "    </tr>\n",
       "    <tr>\n",
       "      <th>124</th>\n",
       "      <td>155.089996</td>\n",
       "      <td>156.960007</td>\n",
       "      <td>154.710007</td>\n",
       "      <td>156.960007</td>\n",
       "      <td>642700</td>\n",
       "    </tr>\n",
       "    <tr>\n",
       "      <th>125</th>\n",
       "      <td>155.869995</td>\n",
       "      <td>156.850006</td>\n",
       "      <td>154.850006</td>\n",
       "      <td>154.964996</td>\n",
       "      <td>257348</td>\n",
       "    </tr>\n",
       "  </tbody>\n",
       "</table>\n",
       "<p>126 rows × 5 columns</p>\n",
       "</div>"
      ],
      "text/plain": [
       "           Open        High         Low       Close   Volume\n",
       "0    128.459755  129.615707  126.277401  127.114464  3403100\n",
       "1    127.413416  128.529499  122.002382  122.660072  1757600\n",
       "2    122.530518  128.738760  121.872827  128.649078  1444400\n",
       "3    127.174265  128.270422  125.978452  128.041229  1722800\n",
       "4    128.928115  129.545944  126.526529  127.184219  1310600\n",
       "..          ...         ...         ...         ...      ...\n",
       "121  145.619995  147.160004  144.429993  145.139999  1691900\n",
       "122  151.979996  157.440002  151.979996  156.860001  3512500\n",
       "123  156.669998  157.279999  154.350006  155.350006  1444100\n",
       "124  155.089996  156.960007  154.710007  156.960007   642700\n",
       "125  155.869995  156.850006  154.850006  154.964996   257348\n",
       "\n",
       "[126 rows x 5 columns]"
      ]
     },
     "execution_count": 330,
     "metadata": {},
     "output_type": "execute_result"
    }
   ],
   "source": [
    "dataset"
   ]
  },
  {
   "cell_type": "code",
   "execution_count": 16,
   "metadata": {},
   "outputs": [
    {
     "data": {
      "text/plain": [
       "((25, 1), (99, 1), (99, 1), (25, 1))"
      ]
     },
     "execution_count": 16,
     "metadata": {},
     "output_type": "execute_result"
    }
   ],
   "source": [
    "# X_train_scaled = list(range(15))\n",
    "X_test_scaled.shape, X_train_scaled.shape, y_train_scaled.shape, y_test_scaled.shape"
   ]
  },
  {
   "cell_type": "code",
   "execution_count": 17,
   "metadata": {},
   "outputs": [],
   "source": [
    "steps = 5\n",
    "X_train_list = []\n",
    "for i in range(steps, len(X_train_scaled)):\n",
    "\tX_train_list.append(X_train_scaled[i-steps:i])\n",
    "X_train_list = np.array(X_train_list)"
   ]
  },
  {
   "cell_type": "code",
   "execution_count": 18,
   "metadata": {},
   "outputs": [
    {
     "data": {
      "text/plain": [
       "((94, 5, 1), (25, 1))"
      ]
     },
     "execution_count": 18,
     "metadata": {},
     "output_type": "execute_result"
    }
   ],
   "source": [
    "X_train_list.shape, X_test_scaled.shape"
   ]
  },
  {
   "cell_type": "code",
   "execution_count": 27,
   "metadata": {},
   "outputs": [
    {
     "name": "stdout",
     "output_type": "stream",
     "text": [
      "Epoch 1/50\n",
      "3/3 [==============================] - 9s 12ms/step - loss: 0.2750\n",
      "Epoch 2/50\n",
      "3/3 [==============================] - 0s 14ms/step - loss: 0.2750\n",
      "Epoch 3/50\n",
      "3/3 [==============================] - 0s 21ms/step - loss: 0.2750\n",
      "Epoch 4/50\n",
      "3/3 [==============================] - 0s 17ms/step - loss: 0.2750\n",
      "Epoch 5/50\n",
      "3/3 [==============================] - 0s 19ms/step - loss: 0.2750\n",
      "Epoch 6/50\n",
      "3/3 [==============================] - 0s 19ms/step - loss: 0.2750\n",
      "Epoch 7/50\n",
      "3/3 [==============================] - 0s 18ms/step - loss: 0.2750\n",
      "Epoch 8/50\n",
      "3/3 [==============================] - 0s 18ms/step - loss: 0.2750\n",
      "Epoch 9/50\n",
      "3/3 [==============================] - 0s 17ms/step - loss: 0.2750\n",
      "Epoch 10/50\n",
      "3/3 [==============================] - 0s 19ms/step - loss: 0.2750\n",
      "Epoch 11/50\n",
      "3/3 [==============================] - 0s 14ms/step - loss: 0.2750\n",
      "Epoch 12/50\n",
      "3/3 [==============================] - 0s 18ms/step - loss: 0.2750\n",
      "Epoch 13/50\n",
      "3/3 [==============================] - 0s 17ms/step - loss: 0.2750\n",
      "Epoch 14/50\n",
      "3/3 [==============================] - 0s 19ms/step - loss: 0.2750\n",
      "Epoch 15/50\n",
      "3/3 [==============================] - 0s 16ms/step - loss: 0.2750\n",
      "Epoch 16/50\n",
      "3/3 [==============================] - 0s 18ms/step - loss: 0.2750\n",
      "Epoch 17/50\n",
      "3/3 [==============================] - 0s 19ms/step - loss: 0.2750\n",
      "Epoch 18/50\n",
      "3/3 [==============================] - 0s 15ms/step - loss: 0.2750\n",
      "Epoch 19/50\n",
      "3/3 [==============================] - 0s 20ms/step - loss: 0.2750\n",
      "Epoch 20/50\n",
      "3/3 [==============================] - 0s 17ms/step - loss: 0.2750\n",
      "Epoch 21/50\n",
      "3/3 [==============================] - 0s 21ms/step - loss: 0.2750\n",
      "Epoch 22/50\n",
      "3/3 [==============================] - 0s 20ms/step - loss: 0.2750\n",
      "Epoch 23/50\n",
      "3/3 [==============================] - 0s 21ms/step - loss: 0.2750\n",
      "Epoch 24/50\n",
      "3/3 [==============================] - 0s 18ms/step - loss: 0.2750\n",
      "Epoch 25/50\n",
      "3/3 [==============================] - 0s 20ms/step - loss: 0.2750\n",
      "Epoch 26/50\n",
      "3/3 [==============================] - 0s 18ms/step - loss: 0.2750\n",
      "Epoch 27/50\n",
      "3/3 [==============================] - 0s 17ms/step - loss: 0.2750\n",
      "Epoch 28/50\n",
      "3/3 [==============================] - 0s 21ms/step - loss: 0.2750\n",
      "Epoch 29/50\n",
      "3/3 [==============================] - 0s 21ms/step - loss: 0.2750\n",
      "Epoch 30/50\n",
      "3/3 [==============================] - 0s 19ms/step - loss: 0.2750\n",
      "Epoch 31/50\n",
      "3/3 [==============================] - 0s 18ms/step - loss: 0.2750\n",
      "Epoch 32/50\n",
      "3/3 [==============================] - 0s 19ms/step - loss: 0.2750\n",
      "Epoch 33/50\n",
      "3/3 [==============================] - 0s 21ms/step - loss: 0.2750\n",
      "Epoch 34/50\n",
      "3/3 [==============================] - 0s 18ms/step - loss: 0.2750\n",
      "Epoch 35/50\n",
      "3/3 [==============================] - 0s 22ms/step - loss: 0.2750\n",
      "Epoch 36/50\n",
      "3/3 [==============================] - 0s 19ms/step - loss: 0.2750\n",
      "Epoch 37/50\n",
      "3/3 [==============================] - 0s 21ms/step - loss: 0.2750\n",
      "Epoch 38/50\n",
      "3/3 [==============================] - 0s 18ms/step - loss: 0.2750\n",
      "Epoch 39/50\n",
      "3/3 [==============================] - 0s 25ms/step - loss: 0.2750\n",
      "Epoch 40/50\n",
      "3/3 [==============================] - 0s 20ms/step - loss: 0.2750\n",
      "Epoch 41/50\n",
      "3/3 [==============================] - 0s 19ms/step - loss: 0.2750\n",
      "Epoch 42/50\n",
      "3/3 [==============================] - 0s 20ms/step - loss: 0.2750\n",
      "Epoch 43/50\n",
      "3/3 [==============================] - 0s 18ms/step - loss: 0.2750\n",
      "Epoch 44/50\n",
      "3/3 [==============================] - 0s 20ms/step - loss: 0.2750\n",
      "Epoch 45/50\n",
      "3/3 [==============================] - 0s 19ms/step - loss: 0.2750\n",
      "Epoch 46/50\n",
      "3/3 [==============================] - 0s 19ms/step - loss: 0.2750\n",
      "Epoch 47/50\n",
      "3/3 [==============================] - 0s 19ms/step - loss: 0.2750\n",
      "Epoch 48/50\n",
      "3/3 [==============================] - 0s 17ms/step - loss: 0.2750\n",
      "Epoch 49/50\n",
      "3/3 [==============================] - 0s 22ms/step - loss: 0.2750\n",
      "Epoch 50/50\n",
      "3/3 [==============================] - 0s 23ms/step - loss: 0.2750\n"
     ]
    },
    {
     "data": {
      "text/plain": [
       "<keras.callbacks.History at 0x18f79f39a80>"
      ]
     },
     "execution_count": 27,
     "metadata": {},
     "output_type": "execute_result"
    }
   ],
   "source": [
    "model = Sequential()\n",
    "model.add(LSTM(64, activation='relu', input_shape=(steps, X_train_list.shape[2]), return_sequences=True))\n",
    "model.add(LSTM(64, return_sequences=True))\n",
    "model.add(LSTM(64, return_sequences=True))\n",
    "model.add(LSTM(64, return_sequences=True))\n",
    "model.add(LSTM(64, return_sequences=True))\n",
    "model.add(LSTM(64, return_sequences=True))\n",
    "model.add(LSTM(64, return_sequences=False))\n",
    "model.add(Dense(units=1, activation='relu'))\n",
    "model.compile(optimizer='adam', loss='mean_squared_error')\n",
    "model.fit(X_train_list, y_train_scaled[:(steps * -1)], epochs=50, batch_size=32)"
   ]
  },
  {
   "cell_type": "code",
   "execution_count": 28,
   "metadata": {},
   "outputs": [],
   "source": [
    "X_test_list = []\n",
    "for i in range(steps, len(X_test)):\n",
    "\tX_test_list.append(X_test[i-5:i])"
   ]
  },
  {
   "cell_type": "code",
   "execution_count": 29,
   "metadata": {},
   "outputs": [],
   "source": [
    "X_test_list, y_test = np.array(X_test_list), np.array(y_test)"
   ]
  },
  {
   "cell_type": "code",
   "execution_count": 30,
   "metadata": {},
   "outputs": [
    {
     "name": "stdout",
     "output_type": "stream",
     "text": [
      "1/1 [==============================] - 2s 2s/step - loss: 0.9097\n"
     ]
    },
    {
     "data": {
      "text/plain": [
       "0.909674346446991"
      ]
     },
     "execution_count": 30,
     "metadata": {},
     "output_type": "execute_result"
    }
   ],
   "source": [
    "model.evaluate(X_test_list, y_test_scaled[:(steps * -1)])"
   ]
  },
  {
   "cell_type": "code",
   "execution_count": 31,
   "metadata": {},
   "outputs": [
    {
     "name": "stdout",
     "output_type": "stream",
     "text": [
      "1/1 [==============================] - 2s 2s/step\n",
      "3/3 [==============================] - 0s 5ms/step\n"
     ]
    }
   ],
   "source": [
    "pred = model.predict(X_test_list)\n",
    "pred2 = model.predict(X_train_list)"
   ]
  },
  {
   "cell_type": "code",
   "execution_count": 32,
   "metadata": {},
   "outputs": [
    {
     "data": {
      "image/png": "[encoded data removed]",
      "text/plain": [
       "<Figure size 640x480 with 1 Axes>"
      ]
     },
     "metadata": {},
     "output_type": "display_data"
    }
   ],
   "source": [
    "import matplotlib.pyplot as plt\n",
    "\n",
    "plt.plot(y_test[:(steps * -1)], label=\"True\", c = \"blue\")\n",
    "plt.plot(y_scaler.inverse_transform(pred), label=\"Test\", c = \"red\")\n",
    "plt.legend()\n",
    "plt.show()"
   ]
  },
  {
   "cell_type": "code",
   "execution_count": 25,
   "metadata": {},
   "outputs": [
    {
     "data": {
      "image/png": "[encoded data removed]",
      "text/plain": [
       "<Figure size 640x480 with 1 Axes>"
      ]
     },
     "metadata": {},
     "output_type": "display_data"
    }
   ],
   "source": [
    "\n",
    "plt.plot(y_train, label = \"TRAIN_TRUE\", c = \"blue\")\n",
    "plt.plot(y_scaler.inverse_transform(pred2), label=\"TRAIN\", c = \"red\")\n",
    "plt.legend()\n",
    "plt.show()"
   ]
  },
  {
   "cell_type": "code",
   "execution_count": 26,
   "metadata": {},
   "outputs": [
    {
     "data": {
      "text/plain": [
       "array([[158.01376],\n",
       "       [158.01363],\n",
       "       [158.01349],\n",
       "       [158.01332],\n",
       "       [158.01338],\n",
       "       [158.01326],\n",
       "       [158.01328],\n",
       "       [158.01318],\n",
       "       [158.01346],\n",
       "       [158.01349],\n",
       "       [158.01341],\n",
       "       [158.01329],\n",
       "       [158.01328],\n",
       "       [158.01332],\n",
       "       [158.01288],\n",
       "       [158.01282],\n",
       "       [158.01288],\n",
       "       [158.01282],\n",
       "       [158.01286],\n",
       "       [158.01297]], dtype=float32)"
      ]
     },
     "execution_count": 26,
     "metadata": {},
     "output_type": "execute_result"
    }
   ],
   "source": [
    "y_scaler.inverse_transform(pred)\n"
   ]
  },
  {
   "cell_type": "code",
   "execution_count": null,
   "metadata": {},
   "outputs": [],
   "source": []
  }
 ],
 "metadata": {
  "kernelspec": {
   "display_name": "Python 3.10.8 ('final-project')",
   "language": "python",
   "name": "python3"
  },
  "language_info": {
   "codemirror_mode": {
    "name": "ipython",
    "version": 3
   },
   "file_extension": ".py",
   "mimetype": "text/x-python",
   "name": "python",
   "nbconvert_exporter": "python",
   "pygments_lexer": "ipython3",
   "version": "3.10.8"
  },
  "orig_nbformat": 4,
  "vscode": {
   "interpreter": {
    "hash": "937ac2121f4bd33c921bc04ce0336a5d7e4eb91bbd651e21166683a68e8f5aa6"
   }
  }
 },
 "nbformat": 4,
 "nbformat_minor": 2
}
