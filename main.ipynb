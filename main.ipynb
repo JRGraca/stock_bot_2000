{
 "cells": [
  {
   "cell_type": "code",
   "execution_count": 135,
   "metadata": {},
   "outputs": [],
   "source": [
    "import pandas as pd\n",
    "import numpy as np\n",
    "import pandas_ta as pta\n",
    "import ta\n",
    "from datapackage import Package\n",
    "from selenium import webdriver\n",
    "import requests\n",
    "from bs4 import BeautifulSoup\n",
    "import yfinance as yf\n",
    "import os\n",
    "import random\n",
    "import shutil\n",
    "import time"
   ]
  },
  {
   "cell_type": "code",
   "execution_count": 40,
   "metadata": {},
   "outputs": [
    {
     "data": {
      "text/plain": [
       "200"
      ]
     },
     "execution_count": 40,
     "metadata": {},
     "output_type": "execute_result"
    }
   ],
   "source": [
    "response = requests.get(\"https://en.wikipedia.org/wiki/List_of_S%26P_500_companies\")\n",
    "response.status_code"
   ]
  },
  {
   "cell_type": "code",
   "execution_count": 51,
   "metadata": {},
   "outputs": [
    {
     "data": {
      "text/plain": [
       "503"
      ]
     },
     "execution_count": 51,
     "metadata": {},
     "output_type": "execute_result"
    }
   ],
   "source": [
    "soup = BeautifulSoup(response.content)\n",
    "here_are_tickers = soup.find_all(\"a\", attrs={\"class\":\"external text\"}) #this is the part that contains ticker code, but it is not unique, so further cleaning is needed\n",
    "len(here_are_tickers) #checking how many items I have (list should be around 500, of course, although the SP500 always has slightly more than 500 members)\n",
    "tickers = [t.text for t in ticker_list if t.text == t.text.upper()] #extracting only the members that are uppercase, which should be just the tickers\n",
    "len(tickers) #503 -> The number looks right!"
   ]
  },
  {
   "cell_type": "code",
   "execution_count": 63,
   "metadata": {},
   "outputs": [
    {
     "name": "stdout",
     "output_type": "stream",
     "text": [
      "Got error from yahoo api for ticker BRK.B, Error: {'code': 'Not Found', 'description': 'No data found, symbol may be delisted'}\n",
      "- BRK.B: No data found for this date range, symbol may be delisted\n",
      "- BF.B: 1d data not available for startTime=-2208994789 and endTime=1669158538. Only 100 years worth of day granularity data are allowed to be fetched per request.\n"
     ]
    }
   ],
   "source": [
    "# this goes through the ticker list and creates the corresponding CSVs (dots in tickers are replaced by dashes so the API parses them properly)\n",
    "for code in tickers:\n",
    "\tobj = yf.Ticker(code.replace(\".\", \"-\"))\n",
    "\thistory = obj.history(period=\"max\")\n",
    "\thistory.to_csv(code + \".csv\")"
   ]
  },
  {
   "cell_type": "code",
   "execution_count": 105,
   "metadata": {},
   "outputs": [],
   "source": [
    "#Creates a Panda DataFrame where we append *all* data points, including a column which tells us which stock the data comes from\n",
    "# Then saves to both csv and pickle formats\n",
    "\n",
    "big_table = pd.DataFrame(columns=[\"Date\", \"Close\", \"Volume\", \"Code\"])\n",
    "for i in os.listdir(\"data\"):\n",
    "\tlittle_table = pd.read_csv(\"data/\" + i)\n",
    "\tlittle_table['Code'] = i.replace(\".csv\", \"\")\n",
    "\tbig_table = pd.concat([big_table, little_table[[\"Date\", \"Close\", \"Volume\", \"Code\"]]], axis=0)\n",
    "big_table.to_csv(\"big_table.csv\")\n",
    "pd.to_pickle(big_table, \"all_data.pkl\")"
   ]
  },
  {
   "cell_type": "code",
   "execution_count": null,
   "metadata": {},
   "outputs": [],
   "source": []
  }
 ],
 "metadata": {
  "kernelspec": {
   "display_name": "Python 3.10.8 ('final-project')",
   "language": "python",
   "name": "python3"
  },
  "language_info": {
   "codemirror_mode": {
    "name": "ipython",
    "version": 3
   },
   "file_extension": ".py",
   "mimetype": "text/x-python",
   "name": "python",
   "nbconvert_exporter": "python",
   "pygments_lexer": "ipython3",
   "version": "3.10.8"
  },
  "orig_nbformat": 4,
  "vscode": {
   "interpreter": {
    "hash": "937ac2121f4bd33c921bc04ce0336a5d7e4eb91bbd651e21166683a68e8f5aa6"
   }
  }
 },
 "nbformat": 4,
 "nbformat_minor": 2
}
