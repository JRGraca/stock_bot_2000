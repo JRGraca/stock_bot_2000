{
 "cells": [
  {
   "cell_type": "code",
   "execution_count": 5,
   "metadata": {},
   "outputs": [],
   "source": [
    "import pandas as pd\n",
    "import numpy as np\n",
    "import pandas_ta as pta\n",
    "import ta\n",
    "# from datapackage import Package\n",
    "# from selenium import webdriver\n",
    "# import requests\n",
    "# from bs4 import BeautifulSoup\n",
    "# import yfinance as yf\n",
    "import os\n",
    "import random\n",
    "import shutil\n",
    "import time\n",
    "from tensorflow.keras.layers import LSTM\n",
    "import tensorflow as tf\n",
    "from scipy import stats\n",
    "from sklearn.model_selection import train_test_split\n",
    "from sklearn.preprocessing import StandardScaler\n",
    "from numpy import array\n",
    "from tensorflow.keras.utils import plot_model\n",
    "import graphviz\n",
    "import pydot\n",
    "from keras.models import Sequential\n",
    "from keras.layers import LSTM\n",
    "from keras.layers import Dense\n",
    "from keras.layers import Dropout"
   ]
  },
  {
   "cell_type": "code",
   "execution_count": 8,
   "metadata": {},
   "outputs": [
    {
     "data": {
      "text/html": [
       "<div>\n",
       "<style scoped>\n",
       "    .dataframe tbody tr th:only-of-type {\n",
       "        vertical-align: middle;\n",
       "    }\n",
       "\n",
       "    .dataframe tbody tr th {\n",
       "        vertical-align: top;\n",
       "    }\n",
       "\n",
       "    .dataframe thead th {\n",
       "        text-align: right;\n",
       "    }\n",
       "</style>\n",
       "<table border=\"1\" class=\"dataframe\">\n",
       "  <thead>\n",
       "    <tr style=\"text-align: right;\">\n",
       "      <th></th>\n",
       "      <th>0</th>\n",
       "      <th>1</th>\n",
       "      <th>2</th>\n",
       "      <th>3</th>\n",
       "      <th>4</th>\n",
       "      <th>5</th>\n",
       "      <th>6</th>\n",
       "      <th>7</th>\n",
       "    </tr>\n",
       "  </thead>\n",
       "  <tbody>\n",
       "    <tr>\n",
       "      <th>0</th>\n",
       "      <td>0.000000</td>\n",
       "      <td>0.0</td>\n",
       "      <td>0.006684</td>\n",
       "      <td>0.006840</td>\n",
       "      <td>0.006739</td>\n",
       "      <td>0.003182</td>\n",
       "      <td>0.0</td>\n",
       "      <td>0.0</td>\n",
       "    </tr>\n",
       "    <tr>\n",
       "      <th>1</th>\n",
       "      <td>0.000055</td>\n",
       "      <td>0.0</td>\n",
       "      <td>0.006713</td>\n",
       "      <td>0.006870</td>\n",
       "      <td>0.006768</td>\n",
       "      <td>0.001591</td>\n",
       "      <td>0.0</td>\n",
       "      <td>0.0</td>\n",
       "    </tr>\n",
       "    <tr>\n",
       "      <th>2</th>\n",
       "      <td>0.000110</td>\n",
       "      <td>0.0</td>\n",
       "      <td>0.006655</td>\n",
       "      <td>0.006781</td>\n",
       "      <td>0.006709</td>\n",
       "      <td>0.007501</td>\n",
       "      <td>0.0</td>\n",
       "      <td>0.0</td>\n",
       "    </tr>\n",
       "    <tr>\n",
       "      <th>3</th>\n",
       "      <td>0.000275</td>\n",
       "      <td>0.0</td>\n",
       "      <td>0.006567</td>\n",
       "      <td>0.006781</td>\n",
       "      <td>0.006680</td>\n",
       "      <td>0.001364</td>\n",
       "      <td>0.0</td>\n",
       "      <td>0.0</td>\n",
       "    </tr>\n",
       "    <tr>\n",
       "      <th>4</th>\n",
       "      <td>0.000330</td>\n",
       "      <td>0.0</td>\n",
       "      <td>0.006596</td>\n",
       "      <td>0.006781</td>\n",
       "      <td>0.006680</td>\n",
       "      <td>0.002614</td>\n",
       "      <td>0.0</td>\n",
       "      <td>0.0</td>\n",
       "    </tr>\n",
       "  </tbody>\n",
       "</table>\n",
       "</div>"
      ],
      "text/plain": [
       "          0    1         2         3         4         5    6    7\n",
       "0  0.000000  0.0  0.006684  0.006840  0.006739  0.003182  0.0  0.0\n",
       "1  0.000055  0.0  0.006713  0.006870  0.006768  0.001591  0.0  0.0\n",
       "2  0.000110  0.0  0.006655  0.006781  0.006709  0.007501  0.0  0.0\n",
       "3  0.000275  0.0  0.006567  0.006781  0.006680  0.001364  0.0  0.0\n",
       "4  0.000330  0.0  0.006596  0.006781  0.006680  0.002614  0.0  0.0"
      ]
     },
     "execution_count": 8,
     "metadata": {},
     "output_type": "execute_result"
    }
   ],
   "source": [
    "ticker_code = \"AVY\"\n",
    "\n",
    "features = pd.read_pickle(\"test_sets/\" + ticker_code + \"_X_train.pkl\")\n",
    "label = pd.read_pickle(\"test_sets/\" + ticker_code + \"_y_train.pkl\")\n",
    "features.head()"
   ]
  },
  {
   "cell_type": "code",
   "execution_count": 9,
   "metadata": {},
   "outputs": [],
   "source": [
    "def create_windows(test_set, steps):\n",
    "\tX_list = []\n",
    "\tfunction_set = test_set.copy()\n",
    "\tfor i in range(len(test_set) - steps):\n",
    "\t\tx_slice = function_set[0:steps]\n",
    "\t\tX_list.append(x_slice)\n",
    "\t\tfunction_set = function_set.shift(-1)\n",
    "\tdel(function_set)\n",
    "\treturn(np.array(X_list))\n",
    "\n",
    "\n"
   ]
  },
  {
   "cell_type": "code",
   "execution_count": 49,
   "metadata": {},
   "outputs": [],
   "source": [
    "steps = 5\n",
    "X_list = create_windows(features, steps)"
   ]
  },
  {
   "cell_type": "code",
   "execution_count": 50,
   "metadata": {},
   "outputs": [
    {
     "data": {
      "text/plain": [
       "(10035, 5, 8)"
      ]
     },
     "execution_count": 50,
     "metadata": {},
     "output_type": "execute_result"
    }
   ],
   "source": [
    "X_list.shape"
   ]
  },
  {
   "cell_type": "code",
   "execution_count": 53,
   "metadata": {},
   "outputs": [
    {
     "name": "stdout",
     "output_type": "stream",
     "text": [
      "Epoch 1/10\n",
      "314/314 [==============================] - 6s 7ms/step - loss: 121.4799\n",
      "Epoch 2/10\n",
      "314/314 [==============================] - 2s 7ms/step - loss: 13.4003\n",
      "Epoch 3/10\n",
      "314/314 [==============================] - 2s 7ms/step - loss: 4.9558\n",
      "Epoch 4/10\n",
      "314/314 [==============================] - 2s 7ms/step - loss: 3.4411\n",
      "Epoch 5/10\n",
      "314/314 [==============================] - 2s 7ms/step - loss: 2.8103\n",
      "Epoch 6/10\n",
      "314/314 [==============================] - 2s 7ms/step - loss: 2.4946\n",
      "Epoch 7/10\n",
      "314/314 [==============================] - 2s 7ms/step - loss: 2.3618\n",
      "Epoch 8/10\n",
      "314/314 [==============================] - 2s 7ms/step - loss: 2.3989\n",
      "Epoch 9/10\n",
      "314/314 [==============================] - 2s 7ms/step - loss: 2.2353\n",
      "Epoch 10/10\n",
      "314/314 [==============================] - 2s 7ms/step - loss: 2.1725\n"
     ]
    },
    {
     "data": {
      "text/plain": [
       "<keras.callbacks.History at 0x2a751681810>"
      ]
     },
     "execution_count": 53,
     "metadata": {},
     "output_type": "execute_result"
    }
   ],
   "source": [
    "\n",
    "n_features = X_list.shape[2]\n",
    "# define model\n",
    "model = Sequential()\n",
    "model.add(LSTM(64, activation='relu', input_shape=(steps, n_features), return_sequences=True))\n",
    "model.add(Dropout(0.2))\n",
    "model.add(LSTM(64, return_sequences=True))\n",
    "model.add(Dropout(0.2))\n",
    "model.add(LSTM(64, return_sequences=False))\n",
    "model.add(Dropout(0.2))\n",
    "# model.add(LSTM(64, return_sequences=True))\n",
    "# model.add(LSTM(64, return_sequences=True))\n",
    "# model.add(LSTM(64, return_sequences=True))\n",
    "# model.add(LSTM(64, return_sequences=True))\n",
    "model.add(Dense(1))\n",
    "model.compile(optimizer='adam', loss='mean_squared_error')\n",
    "model.fit(X_list, label[:(steps * -1)], epochs=10, batch_size=32)"
   ]
  },
  {
   "cell_type": "code",
   "execution_count": 14,
   "metadata": {},
   "outputs": [],
   "source": [
    "X_test = pd.read_pickle(\"test_sets/\" + ticker_code + \"_X_test.pkl\")\n",
    "y_test = pd.read_pickle(\"test_sets/\" + ticker_code + \"_y_test.pkl\")"
   ]
  },
  {
   "cell_type": "code",
   "execution_count": 55,
   "metadata": {},
   "outputs": [],
   "source": [
    "steps= 5\n",
    "test = create_windows(X_test, steps)"
   ]
  },
  {
   "cell_type": "code",
   "execution_count": 56,
   "metadata": {},
   "outputs": [
    {
     "name": "stdout",
     "output_type": "stream",
     "text": [
      "79/79 [==============================] - 1s 4ms/step - loss: 5638.1841\n"
     ]
    }
   ],
   "source": [
    "a = model.evaluate(test, y_test[:(steps * -1)])"
   ]
  },
  {
   "cell_type": "code",
   "execution_count": 52,
   "metadata": {},
   "outputs": [
    {
     "data": {
      "text/plain": [
       "((2515, 2505, 8), (10035, 5, 8))"
      ]
     },
     "execution_count": 52,
     "metadata": {},
     "output_type": "execute_result"
    }
   ],
   "source": [
    "test.shape, X_list.shape"
   ]
  },
  {
   "cell_type": "code",
   "execution_count": 57,
   "metadata": {},
   "outputs": [
    {
     "name": "stdout",
     "output_type": "stream",
     "text": [
      "79/79 [==============================] - 1s 5ms/step\n"
     ]
    }
   ],
   "source": [
    "pred = model.predict(test)"
   ]
  },
  {
   "cell_type": "code",
   "execution_count": 58,
   "metadata": {},
   "outputs": [
    {
     "data": {
      "text/plain": [
       "array([[28.030806],\n",
       "       [28.0873  ],\n",
       "       [28.158916],\n",
       "       ...,\n",
       "       [43.30204 ],\n",
       "       [43.30216 ],\n",
       "       [43.302124]], dtype=float32)"
      ]
     },
     "execution_count": 58,
     "metadata": {},
     "output_type": "execute_result"
    }
   ],
   "source": [
    "pred"
   ]
  },
  {
   "cell_type": "code",
   "execution_count": 48,
   "metadata": {},
   "outputs": [
    {
     "data": {
      "text/plain": [
       "2505"
      ]
     },
     "execution_count": 48,
     "metadata": {},
     "output_type": "execute_result"
    }
   ],
   "source": [
    "len(pred[0])"
   ]
  },
  {
   "cell_type": "code",
   "execution_count": 162,
   "metadata": {},
   "outputs": [],
   "source": [
    "url = 'https://raw.githubusercontent.com/mwitiderrick/stockprice/master/NSE-TATAGLOBAL.csv'\n",
    "dataset_train = pd.read_csv(url)\n",
    "training_set = dataset_train.iloc[:, 1:2].values"
   ]
  },
  {
   "cell_type": "code",
   "execution_count": 195,
   "metadata": {},
   "outputs": [
    {
     "data": {
      "text/html": [
       "<div>\n",
       "<style scoped>\n",
       "    .dataframe tbody tr th:only-of-type {\n",
       "        vertical-align: middle;\n",
       "    }\n",
       "\n",
       "    .dataframe tbody tr th {\n",
       "        vertical-align: top;\n",
       "    }\n",
       "\n",
       "    .dataframe thead th {\n",
       "        text-align: right;\n",
       "    }\n",
       "</style>\n",
       "<table border=\"1\" class=\"dataframe\">\n",
       "  <thead>\n",
       "    <tr style=\"text-align: right;\">\n",
       "      <th></th>\n",
       "      <th>Open</th>\n",
       "    </tr>\n",
       "  </thead>\n",
       "  <tbody>\n",
       "    <tr>\n",
       "      <th>0</th>\n",
       "      <td>234.05</td>\n",
       "    </tr>\n",
       "    <tr>\n",
       "      <th>1</th>\n",
       "      <td>234.55</td>\n",
       "    </tr>\n",
       "    <tr>\n",
       "      <th>2</th>\n",
       "      <td>240.00</td>\n",
       "    </tr>\n",
       "    <tr>\n",
       "      <th>3</th>\n",
       "      <td>233.30</td>\n",
       "    </tr>\n",
       "    <tr>\n",
       "      <th>4</th>\n",
       "      <td>233.55</td>\n",
       "    </tr>\n",
       "    <tr>\n",
       "      <th>...</th>\n",
       "      <td>...</td>\n",
       "    </tr>\n",
       "    <tr>\n",
       "      <th>2030</th>\n",
       "      <td>117.60</td>\n",
       "    </tr>\n",
       "    <tr>\n",
       "      <th>2031</th>\n",
       "      <td>120.10</td>\n",
       "    </tr>\n",
       "    <tr>\n",
       "      <th>2032</th>\n",
       "      <td>121.80</td>\n",
       "    </tr>\n",
       "    <tr>\n",
       "      <th>2033</th>\n",
       "      <td>120.30</td>\n",
       "    </tr>\n",
       "    <tr>\n",
       "      <th>2034</th>\n",
       "      <td>122.10</td>\n",
       "    </tr>\n",
       "  </tbody>\n",
       "</table>\n",
       "<p>2035 rows × 1 columns</p>\n",
       "</div>"
      ],
      "text/plain": [
       "        Open\n",
       "0     234.05\n",
       "1     234.55\n",
       "2     240.00\n",
       "3     233.30\n",
       "4     233.55\n",
       "...      ...\n",
       "2030  117.60\n",
       "2031  120.10\n",
       "2032  121.80\n",
       "2033  120.30\n",
       "2034  122.10\n",
       "\n",
       "[2035 rows x 1 columns]"
      ]
     },
     "execution_count": 195,
     "metadata": {},
     "output_type": "execute_result"
    }
   ],
   "source": [
    "dataset_train.iloc[:, 1:2]"
   ]
  },
  {
   "cell_type": "code",
   "execution_count": 167,
   "metadata": {},
   "outputs": [],
   "source": [
    "from sklearn.preprocessing import MinMaxScaler\n",
    "sc = MinMaxScaler(feature_range=(0,1))\n",
    "training_set_scaled = sc.fit_transform(training_set)"
   ]
  },
  {
   "cell_type": "code",
   "execution_count": 170,
   "metadata": {},
   "outputs": [],
   "source": [
    "X_train = []\n",
    "y_train = []\n",
    "for i in range(60, 2035):\n",
    "\tX_train.append(training_set_scaled[i-60:i, 0])\n",
    "\ty_train.append(training_set_scaled[i, 0])\n",
    "X_train, y_train = np.array(X_train), np.array(y_train)\n",
    "X_train = np.reshape(X_train, (X_train.shape[0], X_train.shape[1], 1))"
   ]
  },
  {
   "cell_type": "code",
   "execution_count": 171,
   "metadata": {},
   "outputs": [],
   "source": [
    "from keras.models import Sequential\n",
    "from keras.layers import LSTM\n",
    "from keras.layers import Dropout\n",
    "from keras.layers import Dense"
   ]
  },
  {
   "cell_type": "code",
   "execution_count": 172,
   "metadata": {},
   "outputs": [
    {
     "name": "stdout",
     "output_type": "stream",
     "text": [
      "Epoch 1/100\n",
      "62/62 [==============================] - 11s 61ms/step - loss: 0.0123\n",
      "Epoch 2/100\n",
      "62/62 [==============================] - 4s 58ms/step - loss: 0.0036\n",
      "Epoch 3/100\n",
      "62/62 [==============================] - 4s 58ms/step - loss: 0.0028\n",
      "Epoch 4/100\n",
      "62/62 [==============================] - 4s 58ms/step - loss: 0.0026\n",
      "Epoch 5/100\n",
      "62/62 [==============================] - 4s 58ms/step - loss: 0.0024\n",
      "Epoch 6/100\n",
      "62/62 [==============================] - 4s 62ms/step - loss: 0.0023\n",
      "Epoch 7/100\n",
      "62/62 [==============================] - 4s 58ms/step - loss: 0.0025\n",
      "Epoch 8/100\n",
      "62/62 [==============================] - 4s 58ms/step - loss: 0.0022\n",
      "Epoch 9/100\n",
      "62/62 [==============================] - 4s 58ms/step - loss: 0.0020\n",
      "Epoch 10/100\n",
      "62/62 [==============================] - 4s 59ms/step - loss: 0.0021\n",
      "Epoch 11/100\n",
      "62/62 [==============================] - 4s 58ms/step - loss: 0.0018\n",
      "Epoch 12/100\n",
      "62/62 [==============================] - 4s 58ms/step - loss: 0.0018\n",
      "Epoch 13/100\n",
      "62/62 [==============================] - 4s 58ms/step - loss: 0.0019\n",
      "Epoch 14/100\n",
      "62/62 [==============================] - 4s 59ms/step - loss: 0.0017\n",
      "Epoch 15/100\n",
      "62/62 [==============================] - 4s 59ms/step - loss: 0.0018\n",
      "Epoch 16/100\n",
      "62/62 [==============================] - 4s 58ms/step - loss: 0.0016\n",
      "Epoch 17/100\n",
      "62/62 [==============================] - 4s 58ms/step - loss: 0.0016\n",
      "Epoch 18/100\n",
      "62/62 [==============================] - 4s 58ms/step - loss: 0.0017\n",
      "Epoch 19/100\n",
      "62/62 [==============================] - 4s 58ms/step - loss: 0.0015\n",
      "Epoch 20/100\n",
      "62/62 [==============================] - 4s 59ms/step - loss: 0.0014\n",
      "Epoch 21/100\n",
      "62/62 [==============================] - 4s 60ms/step - loss: 0.0014\n",
      "Epoch 22/100\n",
      "62/62 [==============================] - 4s 61ms/step - loss: 0.0013\n",
      "Epoch 23/100\n",
      "62/62 [==============================] - 4s 59ms/step - loss: 0.0017\n",
      "Epoch 24/100\n",
      "62/62 [==============================] - 4s 59ms/step - loss: 0.0015\n",
      "Epoch 25/100\n",
      "62/62 [==============================] - 4s 59ms/step - loss: 0.0013\n",
      "Epoch 26/100\n",
      "62/62 [==============================] - 4s 59ms/step - loss: 0.0012\n",
      "Epoch 27/100\n",
      "62/62 [==============================] - 4s 60ms/step - loss: 0.0012\n",
      "Epoch 28/100\n",
      "62/62 [==============================] - 4s 59ms/step - loss: 0.0013\n",
      "Epoch 29/100\n",
      "62/62 [==============================] - 4s 60ms/step - loss: 0.0013\n",
      "Epoch 30/100\n",
      "62/62 [==============================] - 4s 59ms/step - loss: 0.0011\n",
      "Epoch 31/100\n",
      "62/62 [==============================] - 4s 60ms/step - loss: 0.0013\n",
      "Epoch 32/100\n",
      "62/62 [==============================] - 4s 61ms/step - loss: 0.0011\n",
      "Epoch 33/100\n",
      "62/62 [==============================] - 4s 60ms/step - loss: 0.0013\n",
      "Epoch 34/100\n",
      "62/62 [==============================] - 4s 60ms/step - loss: 0.0010\n",
      "Epoch 35/100\n",
      "62/62 [==============================] - 4s 65ms/step - loss: 9.6207e-04\n",
      "Epoch 36/100\n",
      "62/62 [==============================] - 4s 66ms/step - loss: 0.0010\n",
      "Epoch 37/100\n",
      "62/62 [==============================] - 4s 64ms/step - loss: 0.0013\n",
      "Epoch 38/100\n",
      "62/62 [==============================] - 4s 61ms/step - loss: 9.7187e-04\n",
      "Epoch 39/100\n",
      "62/62 [==============================] - 4s 61ms/step - loss: 9.4035e-04\n",
      "Epoch 40/100\n",
      "62/62 [==============================] - 4s 61ms/step - loss: 0.0013\n",
      "Epoch 41/100\n",
      "62/62 [==============================] - 4s 61ms/step - loss: 0.0011\n",
      "Epoch 42/100\n",
      "62/62 [==============================] - 4s 60ms/step - loss: 9.2595e-04\n",
      "Epoch 43/100\n",
      "62/62 [==============================] - 4s 60ms/step - loss: 0.0010\n",
      "Epoch 44/100\n",
      "62/62 [==============================] - 4s 62ms/step - loss: 0.0011\n",
      "Epoch 45/100\n",
      "62/62 [==============================] - 4s 61ms/step - loss: 8.3866e-04\n",
      "Epoch 46/100\n",
      "62/62 [==============================] - 4s 62ms/step - loss: 9.0260e-04\n",
      "Epoch 47/100\n",
      "62/62 [==============================] - 4s 61ms/step - loss: 9.0449e-04\n",
      "Epoch 48/100\n",
      "62/62 [==============================] - 4s 62ms/step - loss: 8.9258e-04\n",
      "Epoch 49/100\n",
      "62/62 [==============================] - 4s 61ms/step - loss: 8.6152e-04\n",
      "Epoch 50/100\n",
      "62/62 [==============================] - 4s 61ms/step - loss: 7.9327e-04\n",
      "Epoch 51/100\n",
      "62/62 [==============================] - 4s 60ms/step - loss: 8.1342e-04\n",
      "Epoch 52/100\n",
      "62/62 [==============================] - 4s 60ms/step - loss: 9.1688e-04\n",
      "Epoch 53/100\n",
      "62/62 [==============================] - 4s 60ms/step - loss: 8.1580e-04\n",
      "Epoch 54/100\n",
      "62/62 [==============================] - 4s 61ms/step - loss: 8.1351e-04\n",
      "Epoch 55/100\n",
      "62/62 [==============================] - 4s 60ms/step - loss: 8.2688e-04\n",
      "Epoch 56/100\n",
      "62/62 [==============================] - 4s 61ms/step - loss: 8.5592e-04\n",
      "Epoch 57/100\n",
      "62/62 [==============================] - 4s 61ms/step - loss: 9.0321e-04\n",
      "Epoch 58/100\n",
      "62/62 [==============================] - 4s 60ms/step - loss: 8.0841e-04\n",
      "Epoch 59/100\n",
      "62/62 [==============================] - 4s 61ms/step - loss: 7.4534e-04\n",
      "Epoch 60/100\n",
      "62/62 [==============================] - 4s 60ms/step - loss: 8.9654e-04\n",
      "Epoch 61/100\n",
      "62/62 [==============================] - 4s 61ms/step - loss: 9.5356e-04\n",
      "Epoch 62/100\n",
      "62/62 [==============================] - 4s 60ms/step - loss: 8.0193e-04\n",
      "Epoch 63/100\n",
      "62/62 [==============================] - 4s 61ms/step - loss: 8.9829e-04\n",
      "Epoch 64/100\n",
      "62/62 [==============================] - 4s 62ms/step - loss: 8.1329e-04\n",
      "Epoch 65/100\n",
      "62/62 [==============================] - 4s 60ms/step - loss: 7.4419e-04\n",
      "Epoch 66/100\n",
      "62/62 [==============================] - 4s 61ms/step - loss: 7.7982e-04\n",
      "Epoch 67/100\n",
      "62/62 [==============================] - 4s 60ms/step - loss: 7.0820e-04\n",
      "Epoch 68/100\n",
      "62/62 [==============================] - 4s 60ms/step - loss: 6.5277e-04\n",
      "Epoch 69/100\n",
      "62/62 [==============================] - 4s 61ms/step - loss: 7.4921e-04\n",
      "Epoch 70/100\n",
      "62/62 [==============================] - 4s 60ms/step - loss: 6.7387e-04\n",
      "Epoch 71/100\n",
      "62/62 [==============================] - 4s 60ms/step - loss: 6.7312e-04\n",
      "Epoch 72/100\n",
      "62/62 [==============================] - 4s 61ms/step - loss: 7.3460e-04\n",
      "Epoch 73/100\n",
      "62/62 [==============================] - 4s 60ms/step - loss: 7.6015e-04\n",
      "Epoch 74/100\n",
      "62/62 [==============================] - 4s 61ms/step - loss: 7.0517e-04\n",
      "Epoch 75/100\n",
      "62/62 [==============================] - 4s 61ms/step - loss: 8.7518e-04\n",
      "Epoch 76/100\n",
      "62/62 [==============================] - 4s 61ms/step - loss: 8.7653e-04\n",
      "Epoch 77/100\n",
      "62/62 [==============================] - 4s 61ms/step - loss: 6.9638e-04\n",
      "Epoch 78/100\n",
      "62/62 [==============================] - 4s 61ms/step - loss: 6.3943e-04\n",
      "Epoch 79/100\n",
      "62/62 [==============================] - 4s 64ms/step - loss: 6.5268e-04\n",
      "Epoch 80/100\n",
      "62/62 [==============================] - 4s 63ms/step - loss: 7.3197e-04\n",
      "Epoch 81/100\n",
      "62/62 [==============================] - 4s 61ms/step - loss: 6.9420e-04\n",
      "Epoch 82/100\n",
      "62/62 [==============================] - 4s 61ms/step - loss: 8.2485e-04\n",
      "Epoch 83/100\n",
      "62/62 [==============================] - 4s 61ms/step - loss: 6.7626e-04\n",
      "Epoch 84/100\n",
      "62/62 [==============================] - 4s 61ms/step - loss: 6.1220e-04\n",
      "Epoch 85/100\n",
      "62/62 [==============================] - 4s 61ms/step - loss: 6.8853e-04\n",
      "Epoch 86/100\n",
      "62/62 [==============================] - 4s 61ms/step - loss: 6.6163e-04\n",
      "Epoch 87/100\n",
      "62/62 [==============================] - 4s 61ms/step - loss: 6.9411e-04\n",
      "Epoch 88/100\n",
      "62/62 [==============================] - 4s 60ms/step - loss: 7.0528e-04\n",
      "Epoch 89/100\n",
      "62/62 [==============================] - 4s 60ms/step - loss: 6.7296e-04\n",
      "Epoch 90/100\n",
      "62/62 [==============================] - 4s 61ms/step - loss: 7.1300e-04\n",
      "Epoch 91/100\n",
      "62/62 [==============================] - 4s 61ms/step - loss: 6.8003e-04\n",
      "Epoch 92/100\n",
      "62/62 [==============================] - 4s 60ms/step - loss: 6.9669e-04\n",
      "Epoch 93/100\n",
      "62/62 [==============================] - 4s 61ms/step - loss: 6.9641e-04\n",
      "Epoch 94/100\n",
      "62/62 [==============================] - 4s 61ms/step - loss: 7.4749e-04\n",
      "Epoch 95/100\n",
      "62/62 [==============================] - 4s 61ms/step - loss: 6.5403e-04\n",
      "Epoch 96/100\n",
      "62/62 [==============================] - 4s 62ms/step - loss: 6.6093e-04\n",
      "Epoch 97/100\n",
      "62/62 [==============================] - 4s 61ms/step - loss: 7.1020e-04\n",
      "Epoch 98/100\n",
      "62/62 [==============================] - 4s 61ms/step - loss: 7.7828e-04\n",
      "Epoch 99/100\n",
      "62/62 [==============================] - 4s 61ms/step - loss: 8.5396e-04\n",
      "Epoch 100/100\n",
      "62/62 [==============================] - 4s 62ms/step - loss: 6.8886e-04\n"
     ]
    },
    {
     "data": {
      "text/plain": [
       "<keras.callbacks.History at 0x228002bf850>"
      ]
     },
     "execution_count": 172,
     "metadata": {},
     "output_type": "execute_result"
    }
   ],
   "source": [
    "model = Sequential()\n",
    "model.add(LSTM(units=50,return_sequences=True,input_shape=(X_train.shape[1], 1)))\n",
    "model.add(Dropout(0.2))\n",
    "model.add(LSTM(units=50,return_sequences=True))\n",
    "model.add(Dropout(0.2))\n",
    "model.add(LSTM(units=50,return_sequences=True))\n",
    "model.add(Dropout(0.2))\n",
    "model.add(LSTM(units=50))\n",
    "model.add(Dropout(0.2))\n",
    "model.add(Dense(units=1))\n",
    "model.compile(optimizer='adam',loss='mean_squared_error')\n",
    "model.fit(X_train,y_train,epochs=100,batch_size=32)"
   ]
  },
  {
   "cell_type": "code",
   "execution_count": 173,
   "metadata": {},
   "outputs": [],
   "source": [
    "url = 'https://raw.githubusercontent.com/mwitiderrick/stockprice/master/tatatest.csv'\n",
    "dataset_test = pd.read_csv(url)\n",
    "real_stock_price = dataset_test.iloc[:, 1:2].values"
   ]
  },
  {
   "cell_type": "code",
   "execution_count": 176,
   "metadata": {},
   "outputs": [
    {
     "name": "stderr",
     "output_type": "stream",
     "text": [
      "C:\\Users\\BogPoet\\AppData\\Local\\Temp\\ipykernel_15008\\1149199898.py:2: FutureWarning: The behavior of `series[i:j]` with an integer-dtype index is deprecated. In a future version, this will be treated as *label-based* indexing, consistent with e.g. `series[i]` lookups. To retain the old behavior, use `series.iloc[i:j]`. To get the future behavior, use `series.loc[i:j]`.\n",
      "  inputs = dataset_total[len(dataset_total) - len(dataset_test) - 60:].values\n"
     ]
    },
    {
     "name": "stdout",
     "output_type": "stream",
     "text": [
      "1/1 [==============================] - 1s 1s/step\n"
     ]
    }
   ],
   "source": [
    "dataset_total = pd.concat((dataset_train['Open'], dataset_test['Open']), axis = 0)\n",
    "inputs = dataset_total[len(dataset_total) - len(dataset_test) - 60:].values\n",
    "inputs = inputs.reshape(-1,1)\n",
    "inputs = sc.transform(inputs)\n",
    "X_test = []\n",
    "for i in range(60, 76):\n",
    "\tX_test.append(inputs[i-60:i, 0])\n",
    "X_test = np.array(X_test)\n",
    "X_test = np.reshape(X_test, (X_test.shape[0], X_test.shape[1], 1))\n",
    "predicted_stock_price = model.predict(X_test)\n",
    "predicted_stock_price = sc.inverse_transform(predicted_stock_price)"
   ]
  },
  {
   "cell_type": "code",
   "execution_count": 178,
   "metadata": {},
   "outputs": [
    {
     "data": {
      "image/png": "[encoded data removed]",
      "text/plain": [
       "<Figure size 640x480 with 1 Axes>"
      ]
     },
     "metadata": {},
     "output_type": "display_data"
    }
   ],
   "source": [
    "import matplotlib.pyplot as plt\n",
    "plt.plot(real_stock_price, color = 'black', label = 'TATA Stock Price')\n",
    "plt.plot(predicted_stock_price, color = 'green', label = 'Predicted TATA Stock Price')\n",
    "plt.title('TATA Stock Price Prediction')\n",
    "plt.xlabel('Time')\n",
    "plt.ylabel('TATA Stock Price')\n",
    "plt.legend()\n",
    "plt.show()"
   ]
  },
  {
   "cell_type": "code",
   "execution_count": 179,
   "metadata": {},
   "outputs": [
    {
     "data": {
      "text/plain": [
       "array([[220.1 ],\n",
       "       [221.1 ],\n",
       "       [229.45],\n",
       "       [230.3 ],\n",
       "       [237.7 ],\n",
       "       [237.1 ],\n",
       "       [229.7 ],\n",
       "       [226.25],\n",
       "       [215.  ],\n",
       "       [215.  ],\n",
       "       [215.5 ],\n",
       "       [208.  ],\n",
       "       [217.  ],\n",
       "       [223.5 ],\n",
       "       [230.  ],\n",
       "       [234.55]])"
      ]
     },
     "execution_count": 179,
     "metadata": {},
     "output_type": "execute_result"
    }
   ],
   "source": [
    "real_stock_price"
   ]
  }
 ],
 "metadata": {
  "kernelspec": {
   "display_name": "Python 3.10.8 ('final-project')",
   "language": "python",
   "name": "python3"
  },
  "language_info": {
   "codemirror_mode": {
    "name": "ipython",
    "version": 3
   },
   "file_extension": ".py",
   "mimetype": "text/x-python",
   "name": "python",
   "nbconvert_exporter": "python",
   "pygments_lexer": "ipython3",
   "version": "3.10.8"
  },
  "orig_nbformat": 4,
  "vscode": {
   "interpreter": {
    "hash": "937ac2121f4bd33c921bc04ce0336a5d7e4eb91bbd651e21166683a68e8f5aa6"
   }
  }
 },
 "nbformat": 4,
 "nbformat_minor": 2
}
