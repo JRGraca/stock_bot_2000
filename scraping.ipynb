{
 "cells": [
  {
   "cell_type": "code",
   "execution_count": 17,
   "metadata": {},
   "outputs": [],
   "source": [
    "import pandas as pd\n",
    "import numpy as np\n",
    "import pandas_ta as pta\n",
    "import ta\n",
    "from datapackage import Package\n",
    "from selenium import webdriver\n",
    "import requests\n",
    "from bs4 import BeautifulSoup\n",
    "import yfinance as yf\n",
    "import os\n",
    "import random\n",
    "import shutil\n",
    "import time"
   ]
  },
  {
   "cell_type": "code",
   "execution_count": 18,
   "metadata": {},
   "outputs": [
    {
     "data": {
      "text/plain": [
       "200"
      ]
     },
     "execution_count": 18,
     "metadata": {},
     "output_type": "execute_result"
    }
   ],
   "source": [
    "response = requests.get(\"https://en.wikipedia.org/wiki/List_of_S%26P_500_companies\")\n",
    "response.status_code"
   ]
  },
  {
   "cell_type": "code",
   "execution_count": 19,
   "metadata": {},
   "outputs": [
    {
     "data": {
      "text/plain": [
       "503"
      ]
     },
     "execution_count": 19,
     "metadata": {},
     "output_type": "execute_result"
    }
   ],
   "source": [
    "soup = BeautifulSoup(response.content)\n",
    "here_are_tickers = soup.find_all(\"a\", attrs={\"class\":\"external text\"}) #this is the part that contains ticker code, but it is not unique, so further cleaning is needed\n",
    "len(here_are_tickers) #checking how many items I have (list should be around 500, of course, although the SP500 always has slightly more than 500 members)\n",
    "tickers = [t.text for t in here_are_tickers if t.text == t.text.upper()] #extracting only the members that are uppercase, which should be just the tickers\n",
    "len(tickers) #503 -> The number looks right!"
   ]
  },
  {
   "cell_type": "code",
   "execution_count": 24,
   "metadata": {},
   "outputs": [],
   "source": [
    "# REMOVES ALL DOWNLOADED FILES - USE CAREFULLY\n",
    "\n",
    "for file in os.listdir(\"data\"):\n",
    "\tos.remove(\"data/\" + file)"
   ]
  },
  {
   "cell_type": "code",
   "execution_count": 25,
   "metadata": {},
   "outputs": [],
   "source": [
    "# this goes through the ticker list and creates the corresponding CSVs (dots in tickers are replaced by dashes so the API parses them properly)\n",
    "for code in tickers:\n",
    "\tobj = yf.Ticker(code.replace(\".\", \"-\"))\n",
    "\thistory = obj.history(period=\"max\")\n",
    "\thistory.to_csv(\"data/\" + code + \".csv\")"
   ]
  },
  {
   "cell_type": "code",
   "execution_count": null,
   "metadata": {},
   "outputs": [
    {
     "name": "stdout",
     "output_type": "stream",
     "text": [
      "Help on function history in module yfinance.base:\n",
      "\n",
      "history(self, period='1mo', interval='1d', start=None, end=None, prepost=False, actions=True, auto_adjust=True, back_adjust=False, keepna=False, proxy=None, rounding=False, timeout=None, **kwargs)\n",
      "    :Parameters:\n",
      "        period : str\n",
      "            Valid periods: 1d,5d,1mo,3mo,6mo,1y,2y,5y,10y,ytd,max\n",
      "            Either Use period parameter or use start and end\n",
      "        interval : str\n",
      "            Valid intervals: 1m,2m,5m,15m,30m,60m,90m,1h,1d,5d,1wk,1mo,3mo\n",
      "            Intraday data cannot extend last 60 days\n",
      "        start: str\n",
      "            Download start date string (YYYY-MM-DD) or _datetime.\n",
      "            Default is 1900-01-01\n",
      "        end: str\n",
      "            Download end date string (YYYY-MM-DD) or _datetime.\n",
      "            Default is now\n",
      "        prepost : bool\n",
      "            Include Pre and Post market data in results?\n",
      "            Default is False\n",
      "        auto_adjust: bool\n",
      "            Adjust all OHLC automatically? Default is True\n",
      "        back_adjust: bool\n",
      "            Back-adjusted data to mimic true historical prices\n",
      "        keepna: bool\n",
      "            Keep NaN rows returned by Yahoo?\n",
      "            Default is False\n",
      "        proxy: str\n",
      "            Optional. Proxy server URL scheme. Default is None\n",
      "        rounding: bool\n",
      "            Round values to 2 decimal places?\n",
      "            Optional. Default is False = precision suggested by Yahoo!\n",
      "        timeout: None or float\n",
      "            If not None stops waiting for a response after given number of\n",
      "            seconds. (Can also be a fraction of a second e.g. 0.01)\n",
      "            Default is None.\n",
      "        **kwargs: dict\n",
      "            debug: bool\n",
      "                Optional. If passed as False, will suppress\n",
      "                error message printing to console.\n",
      "\n"
     ]
    }
   ],
   "source": [
    "help(yf.Ticker.history)"
   ]
  },
  {
   "cell_type": "code",
   "execution_count": null,
   "metadata": {},
   "outputs": [],
   "source": []
  }
 ],
 "metadata": {
  "kernelspec": {
   "display_name": "Python 3.10.8 ('final-project')",
   "language": "python",
   "name": "python3"
  },
  "language_info": {
   "codemirror_mode": {
    "name": "ipython",
    "version": 3
   },
   "file_extension": ".py",
   "mimetype": "text/x-python",
   "name": "python",
   "nbconvert_exporter": "python",
   "pygments_lexer": "ipython3",
   "version": "3.10.8"
  },
  "orig_nbformat": 4,
  "vscode": {
   "interpreter": {
    "hash": "937ac2121f4bd33c921bc04ce0336a5d7e4eb91bbd651e21166683a68e8f5aa6"
   }
  }
 },
 "nbformat": 4,
 "nbformat_minor": 2
}
